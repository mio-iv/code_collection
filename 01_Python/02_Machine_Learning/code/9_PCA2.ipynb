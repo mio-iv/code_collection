{
 "cells": [
  {
   "cell_type": "markdown",
   "metadata": {},
   "source": [
    "# 第9回演習「主成分分析による次元削減 その2」"
   ]
  },
  {
   "cell_type": "markdown",
   "metadata": {},
   "source": [
    "この演習では、次元削減における第2主成分の扱いを習得します。<hr />"
   ]
  },
  {
   "cell_type": "markdown",
   "metadata": {},
   "source": [
    "## 10) まずここを実行しておきましょう<br />\n",
    "グレイの背景のプログラムは上から順に、1つずつ実行していきましょう。<br />\n",
    "途中のどこかを飛ばすと、意図と違う挙動になります。"
   ]
  },
  {
   "cell_type": "code",
   "execution_count": 1,
   "metadata": {},
   "outputs": [],
   "source": [
    "import matplotlib.pyplot as plt\n",
    "from sklearn.decomposition import PCA\n",
    "import numpy as np\n",
    "import matplotlib.cm as cm # 図示の時の色関係\n",
    "plt.figure(figsize = (8, 6)) # 図示の準備\n",
    "\n",
    "# 各列は数学、理科、社会、英語、国語の順\n",
    "全受験データ=np.array([[71,64,83,100,71],[34,48,67,57,68],[58,59,78,87,66],[41,51,70,60,72],[69,56,74,81,66],[64,65,82,100,71],[16,45,63,7,59],[59,59,78,59,62],[57,54,84,73,72],[46,54,71,43,62],[23,49,64,33,70],[39,48,71,29,66],[46,55,68,42,61],[52,56,82,67,60],[39,53,78,52,72],[23,43,63,35,59],[37,45,67,39,70],[52,51,74,65,69],[63,56,79,91,70],[39,49,73,64,60]])\n",
    "np.set_printoptions(precision=2) # 小数点以下の桁数\n",
    "受験者数=全受験データ.shape[0] # 全受験データの行数が受験者数である\n",
    "pca=PCA(n_components=2) # PCAのインスタンスを作る(2次元に落とす)\n",
    "pca.fit(全受験データ) # 主成分分析(教師なし学習)\n",
    "主成分負荷量 = -1*pca.components_[[0],:] # 第1主成分のみ\n",
    "受験者ごとの主成分得点=全受験データ.dot(主成分負荷量.T)"
   ]
  },
  {
   "cell_type": "markdown",
   "metadata": {},
   "source": [
    "## 11) 寄与率を求める"
   ]
  },
  {
   "cell_type": "code",
   "execution_count": 2,
   "metadata": {},
   "outputs": [
    {
     "name": "stdout",
     "output_type": "stream",
     "text": [
      "科目ごとの素点の分散の和\n",
      "923.66\n",
      "主成分得点の分散\n",
      "844.45\n",
      "寄与率(『主成分得点の分散』を、『科目ごとの素点の分散の和』で割ります)\n",
      "0.91\n"
     ]
    }
   ],
   "source": [
    "print(\"科目ごとの素点の分散の和\")\n",
    "科目ごとの素点の分散の和=np.sum(np.var(全受験データ, axis=0))\n",
    "print('{0:.2f}'.format(科目ごとの素点の分散の和)) # 全科目の素点の分散の和\n",
    "print(\"主成分得点の分散\")\n",
    "主成分得点の分散=np.var(受験者ごとの主成分得点)\n",
    "print('{0:.2f}'.format(主成分得点の分散))\n",
    "print(\"寄与率(『主成分得点の分散』を、『科目ごとの素点の分散の和』で割ります)\")\n",
    "print('{0:.2f}'.format(主成分得点の分散/科目ごとの素点の分散の和))"
   ]
  },
  {
   "cell_type": "markdown",
   "metadata": {},
   "source": [
    "## 12) もっと簡単に寄与率を求める"
   ]
  },
  {
   "cell_type": "code",
   "execution_count": 4,
   "metadata": {},
   "outputs": [
    {
     "name": "stdout",
     "output_type": "stream",
     "text": [
      "scikit-learn の機能で簡単に求める寄与率\n",
      "0.91\n",
      "0.05\n"
     ]
    }
   ],
   "source": [
    "print(\"scikit-learn の機能で簡単に求める寄与率\")\n",
    "print('{0:.2f}'.format(pca.explained_variance_ratio_[0])) # 第一主成分の寄与率\n",
    "# print('{0:.2f}'.format(pca.explained_variance_ratio_[1])) # 第一主成分の寄与率"
   ]
  },
  {
   "cell_type": "markdown",
   "metadata": {},
   "source": [
    "## 13) 第2主成分の主成分負荷量を求める"
   ]
  },
  {
   "cell_type": "code",
   "execution_count": 5,
   "metadata": {},
   "outputs": [
    {
     "name": "stdout",
     "output_type": "stream",
     "text": [
      "主成分負荷量(第2主成分)\n",
      "[[ 0.76  0.24  0.2  -0.53 -0.24]]\n"
     ]
    }
   ],
   "source": [
    "第2主成分の主成分負荷量=pca.components_[[1],:] # 第2主成分のみ\n",
    "print(\"主成分負荷量(第2主成分)\")\n",
    "print(第2主成分の主成分負荷量)"
   ]
  },
  {
   "cell_type": "markdown",
   "metadata": {},
   "source": [
    "## 14) 第1、第2の主成分負荷量を比べる"
   ]
  },
  {
   "cell_type": "code",
   "execution_count": 6,
   "metadata": {},
   "outputs": [
    {
     "name": "stdout",
     "output_type": "stream",
     "text": [
      "第1、第2の主成分負荷量を比べてみます\n",
      "第1 [[0.49 0.17 0.2  0.83 0.07]]\n",
      "第2 [[ 0.76  0.24  0.2  -0.53 -0.24]]\n"
     ]
    }
   ],
   "source": [
    "############## 第1と比べ、第2主成分を解釈\n",
    "第1主成分の主成分負荷量=主成分負荷量\n",
    "print(\"第1、第2の主成分負荷量を比べてみます\")\n",
    "print(\"第1\",第1主成分の主成分負荷量) \n",
    "print(\"第2\",第2主成分の主成分負荷量) "
   ]
  },
  {
   "cell_type": "markdown",
   "metadata": {},
   "source": [
    "## 15) 寄与率の求め方を確認する"
   ]
  },
  {
   "cell_type": "code",
   "execution_count": 7,
   "metadata": {},
   "outputs": [
    {
     "name": "stdout",
     "output_type": "stream",
     "text": [
      "科目ごとの素点の分散の和\n",
      "923.66\n",
      "主成分得点(第1)の分散\n",
      "844.45\n",
      "寄与率\n",
      "0.91\n"
     ]
    }
   ],
   "source": [
    "# 改めて、第1主成分の寄与率を思い出す\n",
    "print(\"科目ごとの素点の分散の和\")\n",
    "科目ごとの素点の分散の和=np.sum(np.var(全受験データ, axis=0))\n",
    "print('{0:.2f}'.format(科目ごとの素点の分散の和)) # 全科目の素点の分散の和\n",
    "print(\"主成分得点(第1)の分散\")\n",
    "第1主成分得点の分散=np.var(受験者ごとの主成分得点)\n",
    "print('{0:.2f}'.format(第1主成分得点の分散))\n",
    "print(\"寄与率\")\n",
    "print('{0:.2f}'.format(第1主成分得点の分散/科目ごとの素点の分散の和))"
   ]
  },
  {
   "cell_type": "markdown",
   "metadata": {},
   "source": [
    "## 16) 第2主成分の寄与率を簡単に求める"
   ]
  },
  {
   "cell_type": "code",
   "execution_count": 8,
   "metadata": {},
   "outputs": [
    {
     "name": "stdout",
     "output_type": "stream",
     "text": [
      "第2主成分の寄与率\n",
      "0.05\n"
     ]
    }
   ],
   "source": [
    "print(\"第2主成分の寄与率\")\n",
    "print('{0:.2f}'.format(pca.explained_variance_ratio_[1])) # 第2主成分の寄与率"
   ]
  },
  {
   "cell_type": "markdown",
   "metadata": {},
   "source": [
    "## 17) 累積寄与率を求める(第2まで)"
   ]
  },
  {
   "cell_type": "code",
   "execution_count": 9,
   "metadata": {},
   "outputs": [
    {
     "name": "stdout",
     "output_type": "stream",
     "text": [
      "累積寄与率\n",
      "0.96\n"
     ]
    }
   ],
   "source": [
    "print(\"累積寄与率\")\n",
    "print('{0:.2f}'.format(np.sum(pca.explained_variance_ratio_))) # 寄与率の和"
   ]
  },
  {
   "cell_type": "markdown",
   "metadata": {},
   "source": [
    "## 18) 第1、第2の主成分負荷量を図示する"
   ]
  },
  {
   "cell_type": "code",
   "execution_count": 10,
   "metadata": {},
   "outputs": [
    {
     "name": "stdout",
     "output_type": "stream",
     "text": [
      "科目ごとの第1、第2主成分負荷量を比べてみます\n",
      "第1 [[0.49 0.17 0.2  0.83 0.07]]\n",
      "第2 [[ 0.76  0.24  0.2  -0.53 -0.24]]\n"
     ]
    },
    {
     "data": {
      "image/png": "[encoded data removed]",
      "text/plain": [
       "<Figure size 432x288 with 1 Axes>"
      ]
     },
     "metadata": {
      "needs_background": "light"
     },
     "output_type": "display_data"
    }
   ],
   "source": [
    "############# 各科目を主成分負荷量から評価する\n",
    "print(\"科目ごとの第1、第2主成分負荷量を比べてみます\")\n",
    "print(\"第1\",第1主成分の主成分負荷量) \n",
    "print(\"第2\",第2主成分の主成分負荷量) \n",
    "# 科目ごとに第1主成分負荷量をX軸、第2主成分負荷量をY軸として表示\n",
    "plt.scatter(第1主成分の主成分負荷量,第2主成分の主成分負荷量) \n",
    "plt.xlabel(\"X\")\n",
    "plt.ylabel(\"Y\")\n",
    "plt.grid(True)\n",
    "plt.show()"
   ]
  },
  {
   "cell_type": "markdown",
   "metadata": {},
   "source": [
    "## 19) 第1、第2の主成分得点を図示する"
   ]
  },
  {
   "cell_type": "code",
   "execution_count": 13,
   "metadata": {},
   "outputs": [
    {
     "name": "stdout",
     "output_type": "stream",
     "text": [
      "0 149.94 16.00\n",
      "1 90.05 4.36\n",
      "2 130.60 12.01\n",
      "3 97.36 8.44\n",
      "4 129.74 21.97\n",
      "5 146.48 10.75\n",
      "6 37.88 17.66\n",
      "7 107.63 28.43\n",
      "8 119.24 17.19\n",
      "9 85.76 24.44\n",
      "10 64.50 7.83\n",
      "11 69.97 24.13\n",
      "12 84.45 24.84\n",
      "13 110.94 19.49\n",
      "14 91.66 13.20\n",
      "15 64.16 7.76\n",
      "16 76.24 14.91\n",
      "17 107.48 15.63\n",
      "18 136.32 12.22\n",
      "19 99.09 7.78\n"
     ]
    },
    {
     "data": {
      "image/png": "[encoded data removed]",
      "text/plain": [
       "<Figure size 432x288 with 1 Axes>"
      ]
     },
     "metadata": {
      "needs_background": "light"
     },
     "output_type": "display_data"
    }
   ],
   "source": [
    "############ 各受験者を、主成分得点から評価する\n",
    "受験者ごとの主成分得点_第1=全受験データ.dot(第1主成分の主成分負荷量.T).flatten()\n",
    "受験者ごとの主成分得点_第2=全受験データ.dot(第2主成分の主成分負荷量.T).flatten()\n",
    "\n",
    "for 受験番号 in range(受験者数):\n",
    "    print(受験番号,'{0:.2f}'.format(受験者ごとの主成分得点_第1[受験番号]),'{0:.2f}'.format(受験者ごとの主成分得点_第2[受験番号]))\n",
    "    \n",
    "y=[0.5,0.5,1,1,1,1,1,0.5,1,1,1,1,1,1,1,1,1,1,1,1] # 色の配列(特定の受験者の色を変えて目立たせるため)\n",
    "plt.scatter(受験者ごとの主成分得点_第1,受験者ごとの主成分得点_第2, vmin=-1, vmax=1, c=y, cmap=cm.seismic)\n",
    "plt.grid(True)\n",
    "plt.show()"
   ]
  },
  {
   "cell_type": "markdown",
   "metadata": {},
   "source": [
    "## 任意課題(1) \n",
    "寄与率を「第5主成分まで」求めてください。その際、5次元から2次元に落としていると「第3、第4、第5」主成分は求められません。プログラムのどこを変更したらよいか考えましょう。"
   ]
  },
  {
   "cell_type": "markdown",
   "metadata": {},
   "source": [
    "## 任意課題(2)\n",
    "累積寄与率が「第1主成分から第5主成分まで」上昇していく様子を図示してください。どのように上がり、最終的にはどのような値になるでしょうか?"
   ]
  },
  {
   "cell_type": "code",
   "execution_count": 17,
   "metadata": {},
   "outputs": [
    {
     "name": "stdout",
     "output_type": "stream",
     "text": [
      "各主成分負荷量\n",
      "[[-0.49151 -0.17305 -0.19589 -0.82782 -0.06941]]\n",
      "[[ 0.75599  0.23784  0.19864 -0.52574 -0.23677]]\n",
      "[[-0.10648  0.0131  -0.22762  0.19385 -0.94821]]\n",
      "[[ 0.39445 -0.34926 -0.83517  0.02334  0.15613]]\n",
      "[[-0.1413   0.88957 -0.41576 -0.01417  0.12507]]\n",
      "各寄与率\n",
      "0.91425\n",
      "0.04751\n",
      "0.01841\n",
      "0.01272\n",
      "0.00710\n"
     ]
    },
    {
     "data": {
      "text/plain": [
       "<Figure size 576x432 with 0 Axes>"
      ]
     },
     "metadata": {},
     "output_type": "display_data"
    }
   ],
   "source": [
    "import matplotlib.pyplot as plt\n",
    "from sklearn.decomposition import PCA\n",
    "import numpy as np\n",
    "import matplotlib.cm as cm # 図示の時の色関係\n",
    "plt.figure(figsize = (8, 6)) # 図示の準備\n",
    "\n",
    "# 各列は数学、理科、社会、英語、国語の順\n",
    "全受験データ=np.array([[71,64,83,100,71],[34,48,67,57,68],[58,59,78,87,66],[41,51,70,60,72],[69,56,74,81,66],[64,65,82,100,71],[16,45,63,7,59],[59,59,78,59,62],[57,54,84,73,72],[46,54,71,43,62],[23,49,64,33,70],[39,48,71,29,66],[46,55,68,42,61],[52,56,82,67,60],[39,53,78,52,72],[23,43,63,35,59],[37,45,67,39,70],[52,51,74,65,69],[63,56,79,91,70],[39,49,73,64,60]])\n",
    "np.set_printoptions(precision=5) # 小数点以下の桁数\n",
    "受験者数=全受験データ.shape[0] # 全受験データの行数が受験者数である\n",
    "pca=PCA(n_components=5) # PCAのインスタンスを作る(2次元に落とす)\n",
    "pca.fit(全受験データ) # 主成分分析(教師なし学習)\n",
    "\n",
    "# 各主成分負荷量\n",
    "print(\"各主成分負荷量\")\n",
    "print(pca.components_[[0],:])\n",
    "print(pca.components_[[1],:])\n",
    "print(pca.components_[[2],:])\n",
    "print(pca.components_[[3],:])\n",
    "print(pca.components_[[4],:])\n",
    "\n",
    "print(\"各寄与率\")\n",
    "print('{0:.5f}'.format(pca.explained_variance_ratio_[0]))\n",
    "print('{0:.5f}'.format(pca.explained_variance_ratio_[1]))\n",
    "print('{0:.5f}'.format(pca.explained_variance_ratio_[2]))\n",
    "print('{0:.5f}'.format(pca.explained_variance_ratio_[3]))\n",
    "print('{0:.5f}'.format(pca.explained_variance_ratio_[4]))\n",
    "\n",
    "# 主成分負荷量 = -1*pca.components_[[0],:] # 第1主成分のみ\n",
    "# 受験者ごとの主成分得点=全受験データ.dot(主成分負荷量.T)"
   ]
  },
  {
   "cell_type": "markdown",
   "metadata": {},
   "source": [
    "第9回第4章の演習はここまでです。お疲れさまでした。"
   ]
  }
 ],
 "metadata": {
  "kernelspec": {
   "display_name": "Python 3",
   "language": "python",
   "name": "python3"
  },
  "language_info": {
   "codemirror_mode": {
    "name": "ipython",
    "version": 3
   },
   "file_extension": ".py",
   "mimetype": "text/x-python",
   "name": "python",
   "nbconvert_exporter": "python",
   "pygments_lexer": "ipython3",
   "version": "3.5.4"
  }
 },
 "nbformat": 4,
 "nbformat_minor": 2
}
