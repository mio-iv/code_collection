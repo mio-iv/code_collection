{
 "cells": [
  {
   "cell_type": "markdown",
   "metadata": {},
   "source": [
    "# 第7回演習「XORを出力させる」"
   ]
  },
  {
   "cell_type": "markdown",
   "metadata": {},
   "source": [
    "この演習では、多層パーセプトロンによる排他的論理和(XOR)の扱いを習得します。<hr />"
   ]
  },
  {
   "cell_type": "code",
   "execution_count": 8,
   "metadata": {},
   "outputs": [
    {
     "name": "stdout",
     "output_type": "stream",
     "text": [
      "論理積を出力します\n",
      "[0, 0] 0\n",
      "[0, 1] 0\n",
      "[1, 0] 0\n",
      "[1, 1] 1\n",
      "否定論理積を出力します\n",
      "[0, 0] 1\n",
      "[0, 1] 1\n",
      "[1, 0] 1\n",
      "[1, 1] 0\n",
      "新しい否定論理積を出力します\n",
      "[0, 0] 1\n",
      "[0, 1] 1\n",
      "[1, 0] 1\n",
      "[1, 1] 0\n",
      "論理和を出力します\n",
      "[0, 0] 0\n",
      "[0, 1] 1\n",
      "[1, 0] 1\n",
      "[1, 1] 1\n",
      "排他的論理和を出力します\n",
      "[0, 0] 0\n",
      "[0, 1] 1\n",
      "[1, 0] 1\n",
      "[1, 1] 0\n"
     ]
    }
   ],
   "source": [
    "# AND,NAND,OR,そしてXOR\n",
    "import numpy as np\n",
    "\n",
    "def 論理積AND(入力1, 入力2):\n",
    "    入力 = np.array([入力1, 入力2])\n",
    "    重み = np.array([1, 1])\n",
    "    バイアス = -1.5\n",
    "    if np.sum(重み*入力)+バイアス<=0:\n",
    "        return 0\n",
    "    else:\n",
    "        return 1\n",
    "    \n",
    "def 否定論理積NAND(入力1, 入力2):\n",
    "    入力 = np.array([入力1, 入力2])\n",
    "    重み = np.array([-1, -1])\n",
    "    バイアス = 1.5\n",
    "    if np.sum(重み*入力)+バイアス<=0:\n",
    "        return 0\n",
    "    else:\n",
    "        return 1\n",
    "\n",
    "def 新しい否定論理積NAND(入力1, 入力2):\n",
    "    入力 = np.array([入力1, 入力2])\n",
    "    重み = np.array([1, 1])\n",
    "    バイアス = -1.5\n",
    "    if np.sum(重み*入力)+バイアス<=0:\n",
    "        return 1\n",
    "    else:\n",
    "        return 0\n",
    "\n",
    "def 論理和OR(入力1, 入力2):\n",
    "    入力 = np.array([入力1, 入力2])\n",
    "    ###### ↓この重みとバイアスを自身で設定しましょう #####\n",
    "    重み = np.array([1, 1])\n",
    "    バイアス = 0\n",
    "    if np.sum(重み*入力)+バイアス<=0:\n",
    "        return 0\n",
    "    else:\n",
    "        return 1\n",
    "\n",
    "def 排他的論理和XOR(入力1, 入力2):\n",
    "#     中間層の1 = 否定論理積NAND(入力1, 入力2)\n",
    "    中間層の1 = 新しい否定論理積NAND(入力1, 入力2)\n",
    "    中間層の2 = 論理和OR(入力1, 入力2)\n",
    "    y = 論理積AND(中間層の1, 中間層の2)\n",
    "    return y\n",
    "\n",
    "data =  [[0,0],[0,1],[1,0],[1,1]]\n",
    "print(\"論理積を出力します\")\n",
    "for i in data:\n",
    "    print(i, 論理積AND(i[0],i[1]))\n",
    "\n",
    "print(\"否定論理積を出力します\")    \n",
    "for i in data:\n",
    "    print(i, 否定論理積NAND(i[0],i[1])) \n",
    "\n",
    "print(\"新しい否定論理積を出力します\")    \n",
    "for i in data:\n",
    "    print(i, 新しい否定論理積NAND(i[0],i[1])) \n",
    "\n",
    "print(\"論理和を出力します\")    \n",
    "for i in data:\n",
    "    print(i, 論理和OR(i[0],i[1])) \n",
    "\n",
    "print(\"排他的論理和を出力します\") \n",
    "for i in data:\n",
    "    print(i, 排他的論理和XOR(i[0],i[1])) "
   ]
  },
  {
   "cell_type": "markdown",
   "metadata": {},
   "source": [
    "## 任意課題(1)\n",
    "\n",
    "上のプログラムでは関数「論理和OR」の重みとバイアスの箇所がコメントアウトされています。<br />\n",
    "重みとバイアスを設定し、関数を呼び出して挙動を確認しましょう。\n"
   ]
  },
  {
   "cell_type": "markdown",
   "metadata": {},
   "source": [
    "## 任意課題(2)\n",
    "\n",
    "任意課題(1)で完成させた「論理和OR」は、「排他的論理和XOR」から呼び出されるようになっています。<br />\n",
    "「排他的論理和XOR」を呼び出し、挙動を確認しましょう。\n"
   ]
  },
  {
   "cell_type": "markdown",
   "metadata": {},
   "source": [
    "## 任意課題(3)\n",
    "\n",
    "上のプログラムで与えられた「否定論理積NAND」はパーセプトロンの例にはなっていますが<br />\n",
    "「既に論理積の関数があるのなら、その返値を否定するだけでよいのでは」という考え方もできます。<br />\n",
    "その考えに従い、否定論理積のための新しい関数を作ってください。関数名は自分で決めて構いません。\n"
   ]
  },
  {
   "cell_type": "markdown",
   "metadata": {},
   "source": [
    "ここまでで、第7回第2章は終了です。お疲れさまでした。 一息入れて、第3章の講義に進んでください。"
   ]
  }
 ],
 "metadata": {
  "kernelspec": {
   "display_name": "Python 3 (ipykernel)",
   "language": "python",
   "name": "python3"
  },
  "language_info": {
   "codemirror_mode": {
    "name": "ipython",
    "version": 3
   },
   "file_extension": ".py",
   "mimetype": "text/x-python",
   "name": "python",
   "nbconvert_exporter": "python",
   "pygments_lexer": "ipython3",
   "version": "3.10.6"
  }
 },
 "nbformat": 4,
 "nbformat_minor": 2
}
