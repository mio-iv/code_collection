{
 "cells": [
  {
   "cell_type": "markdown",
   "metadata": {},
   "source": [
    "# 第4回演習「クラス分類」"
   ]
  },
  {
   "cell_type": "markdown",
   "metadata": {},
   "source": [
    "この演習ではk近傍法を用いたクラス分類の方法を習得します。<hr />"
   ]
  },
  {
   "cell_type": "code",
   "execution_count": 14,
   "metadata": {
    "scrolled": true
   },
   "outputs": [
    {
     "name": "stdout",
     "output_type": "stream",
     "text": [
      "0 [280 139] [164.61181651 124.78651221] 距離は 116.2602947023548 ラベルは0\n",
      "1 [280 139] [264.79489894 171.62491674] 距離は 35.994170229868416 ラベルは1\n",
      "2 [280 139] [306.34363731 135.8953206 ] 距離は 26.52595447665568 ラベルは1\n",
      "3 [280 139] [323.95670958 178.31281463] 距離は 58.97194003280886 ラベルは1\n",
      "4 [280 139] [288.38048385 189.41015421] 距離は 51.102017152320826 ラベルは0\n",
      "5 [280 139] [229.48283511 174.17766472] 距離は 61.55852535332682 ラベルは0\n",
      "6 [280 139] [317.7232358  186.97910252] 距離は 61.03307953763329 ラベルは1\n",
      "7 [280 139] [240.35901199 153.03556765] 距離は 42.05240884499591 ラベルは0\n",
      "8 [280 139] [298.74945267 126.11168346] 距離は 22.75193790998488 ラベルは1\n",
      "9 [280 139] [312.43737225 176.65789466] 距離は 49.70211412715487 ラベルは1\n",
      "10 [280 139] [204.29765748 170.2444328 ] 距離は 81.89663756229017 ラベルは0\n",
      "11 [280 139] [341.95603111 181.20949463] 距離は 74.96793466425022 ラベルは1\n",
      "12 [280 139] [231.9895469  149.94052478] 距離は 49.2412295676001 ラベルは0\n",
      "13 [280 139] [281.84934028 169.10865503] 距離は 30.16539685114012 ラベルは0\n",
      "14 [280 139] [263.98119747 174.8467927 ] 距離は 39.26314533212933 ラベルは1\n",
      "15 [280 139] [187.24684093 165.04327161] 距離は 96.34002550143401 ラベルは0\n",
      "16 [280 139] [204.88233861 134.67149369] 距離は 75.24226883593029 ラベルは0\n",
      "17 [280 139] [236.585285   176.83640867] 距離は 57.58846498713502 ラベルは0\n",
      "18 [280 139] [307.47925163 139.04230349] 距離は 27.4792841924626 ラベルは1\n",
      "19 [280 139] [319.40777073 152.63102975] 距離は 41.69864944999572 ラベルは1\n",
      "小さいほうから順に3[ 8  2 18]\n",
      "多数決します[1 1 1][1]\n",
      "0 [200 139] [164.61181651 124.78651221] 距離は 38.13589865046301 ラベルは0\n",
      "1 [200 139] [264.79489894 171.62491674] 距離は 72.5449110616089 ラベルは1\n",
      "2 [200 139] [306.34363731 135.8953206 ] 距離は 106.38894787757613 ラベルは1\n",
      "3 [200 139] [323.95670958 178.31281463] 距離は 130.04139050330554 ラベルは1\n",
      "4 [200 139] [288.38048385 189.41015421] 距離は 101.7462214189603 ラベルは0\n",
      "5 [200 139] [229.48283511 174.17766472] 距離は 45.89886339852198 ラベルは0\n",
      "6 [200 139] [317.7232358  186.97910252] 距離は 127.12495634550704 ラベルは1\n",
      "7 [200 139] [240.35901199 153.03556765] 距離は 42.729931056189294 ラベルは0\n",
      "8 [200 139] [298.74945267 126.11168346] 距離は 99.586962529539 ラベルは1\n",
      "9 [200 139] [312.43737225 176.65789466] 距離は 118.57605031670067 ラベルは1\n",
      "10 [200 139] [204.29765748 170.2444328 ] 距離は 31.53861824508353 ラベルは0\n",
      "11 [200 139] [341.95603111 181.20949463] 距離は 148.09846793746144 ラベルは1\n",
      "12 [200 139] [231.9895469  149.94052478] 距離は 33.808670386885865 ラベルは0\n",
      "13 [200 139] [281.84934028 169.10865503] 距離は 87.21149931050819 ラベルは0\n",
      "14 [200 139] [263.98119747 174.8467927 ] 距離は 73.33884493617217 ラベルは1\n",
      "15 [200 139] [187.24684093 165.04327161] 距離は 28.998190674884455 ラベルは0\n",
      "16 [200 139] [204.88233861 134.67149369] 距離は 6.524813957378903 ラベルは0\n",
      "17 [200 139] [236.585285   176.83640867] 距離は 52.63152001960874 ラベルは0\n",
      "18 [200 139] [307.47925163 139.04230349] 距離は 107.47925995525895 ラベルは1\n",
      "19 [200 139] [319.40777073 152.63102975] 距離は 120.18327954733815 ラベルは1\n",
      "小さいほうから順に3[16 15 10]\n",
      "多数決します[0 0 0][0]\n",
      "0 [280 165] [164.61181651 124.78651221] 距離は 122.19475229877257 ラベルは0\n",
      "1 [280 165] [264.79489894 171.62491674] 距離は 16.585675146244288 ラベルは1\n",
      "2 [280 165] [306.34363731 135.8953206 ] 距離は 39.25645920988812 ラベルは1\n",
      "3 [280 165] [323.95670958 178.31281463] 距離は 45.92845904744906 ラベルは1\n",
      "4 [280 165] [288.38048385 189.41015421] 距離は 25.80868338594768 ラベルは0\n",
      "5 [280 165] [229.48283511 174.17766472] 距離は 51.3440695527359 ラベルは0\n",
      "6 [280 165] [317.7232358  186.97910252] 距離は 43.65917391347518 ラベルは1\n",
      "7 [280 165] [240.35901199 153.03556765] 距離は 41.407192272196994 ラベルは0\n",
      "8 [280 165] [298.74945267 126.11168346] 距離は 43.17224963723581 ラベルは1\n",
      "9 [280 165] [312.43737225 176.65789466] 距離は 34.46867601734548 ラベルは1\n",
      "10 [280 165] [204.29765748 170.2444328 ] 距離は 75.88378442334776 ラベルは0\n",
      "11 [280 165] [341.95603111 181.20949463] 距離は 64.04137340082028 ラベルは1\n",
      "12 [280 165] [231.9895469  149.94052478] 距離は 50.31690969017368 ラベルは0\n",
      "13 [280 165] [281.84934028 169.10865503] 距離は 4.505674824793136 ラベルは0\n",
      "14 [280 165] [263.98119747 174.8467927 ] 距離は 18.803227408397433 ラベルは1\n",
      "15 [280 165] [187.24684093 165.04327161] 距離は 92.75316916362996 ラベルは0\n",
      "16 [280 165] [204.88233861 134.67149369] 距離は 81.00914360551162 ラベルは0\n",
      "17 [280 165] [236.585285   176.83640867] 距離は 44.99931164734052 ラベルは0\n",
      "18 [280 165] [307.47925163 139.04230349] 距離は 37.80094282223825 ラベルは1\n",
      "19 [280 165] [319.40777073 152.63102975] 距離は 41.30331486640785 ラベルは1\n",
      "小さいほうから順に3[13  1 14]\n",
      "多数決します[0 1 1][1]\n",
      "未知データの分類結果は [1 0 1]\n"
     ]
    },
    {
     "data": {
      "image/png": "[encoded data removed]",
      "text/plain": [
       "<Figure size 864x288 with 1 Axes>"
      ]
     },
     "metadata": {
      "needs_background": "light"
     },
     "output_type": "display_data"
    }
   ],
   "source": [
    "import matplotlib.pyplot as plt\n",
    "import numpy as np\n",
    "import scipy.stats as stats\n",
    "from classification_clustering_data import * # 外部ファイルからデータ読込\n",
    "\n",
    "説明変数Xの配列 = UMA_X # UMA_Xの内容は classification_clustering_data.py を見てください\n",
    "# 既知の説明変数（UMAで言うと身長体重）\n",
    "目的変数Yの配列 = UMA_Y # UMA_Yも同様\n",
    "# 既知の目的変数（UMAで言うと性別ラベル）\n",
    "未知Xの配列 = np.array([[280, 139],[200,139],[280,165]]) # 性別未知のUMAが3体\n",
    "見る近傍の数 = 3\n",
    "\n",
    "def ユークリッド距離を計算(身長体重1,身長体重2): # ピタゴラスの定理で計算\n",
    "    # 点と点との直線距離を計算。累乗する\n",
    "    return np.sqrt((身長体重2[0]-身長体重1[0])**2 + (身長体重2[1]-身長体重1[1])**2)\n",
    "\n",
    "def 既知データ全てとの距離を計算(未知データの配列,既知データの配列):\n",
    "    返す配列 = np.empty(0,float) # 空っぽの配列を作る\n",
    "    カウント = 0 # いま既知データの何番目を見ているか、を覚えておく\n",
    "    \n",
    "    for 既知データi in 既知データの配列:\n",
    "        ユークリッド距離=ユークリッド距離を計算(未知データの配列,既知データi)\n",
    "        # ここで個別用の関数を繰り返し\n",
    "        print(str(カウント)+\" \",end=\"\")\n",
    "        print(未知データの配列,既知データi,end=\"\")        \n",
    "        print(\" 距離は \"+str(ユークリッド距離),end=\"\")\n",
    "        print(\" ラベルは\" + str(目的変数Yの配列[カウント]))\n",
    "        返す配列=np.append(返す配列,ユークリッド距離)\n",
    "        カウント += 1        \n",
    "    return 返す配列\n",
    "\n",
    "def 小さいほうから配列の番号をk個取得(配列,k):\n",
    "    ソート済の配列 = 配列.argsort() # これ便利ですね　# 小さい順に並べる？\n",
    "    return(ソート済の配列[0:k]) # 0からkの直前まで(kが3なら0,1,2番)\n",
    "\n",
    "########## これよりメイン処理の前半(分類) ########## \n",
    "予測したラベルの配列 = np.empty(0,bool) # 未知データに割り当てるラベルの配列、空っぽで初期化\n",
    "\n",
    "for 未知データi in range(len(未知Xの配列)): # 未知データの個数だけ繰り返す\n",
    "    # 未知データ1つから全既知データへの距離  \n",
    "    既知データとの距離の配列 = 既知データ全てとの距離を計算(未知Xの配列[未知データi],説明変数Xの配列)   \n",
    "    n個の近所のラベルの配列 = np.empty(0,bool) # 多数決用ラベルの配列\n",
    "    \n",
    "    for index in (小さいほうから配列の番号をk個取得(既知データとの距離の配列,見る近傍の数)):\n",
    "        n個の近所のラベルの配列=np.append(n個の近所のラベルの配列,目的変数Yの配列[index]) # 多数決用ラベル配列にappend    \n",
    "        \n",
    "    多数決の結果=stats.mode(n個の近所のラベルの配列, axis=0)[0]# stats.modeの返値の0番が最頻値    \n",
    "    予測したラベルの配列=np.append(予測したラベルの配列,多数決の結果) \n",
    "    \n",
    "    print(\"小さいほうから順に\"+str(見る近傍の数),end=\"\")\n",
    "    print(小さいほうから配列の番号をk個取得(既知データとの距離の配列,見る近傍の数))\n",
    "    print(\"多数決します\",end=\"\")\n",
    "    print(n個の近所のラベルの配列,end=\"\") # このラベル配列から多数決\n",
    "    print(多数決の結果)    \n",
    "        \n",
    "分類結果=予測したラベルの配列\n",
    "print(\"未知データの分類結果は \"+str(分類結果))\n",
    "\n",
    "########## これよりメイン処理の後半(図の表示) ########## \n",
    "plt.figure(figsize=(12, 4))\n",
    "plt.title(\"UMA Classification, n=20, k=\"+str(見る近傍の数))\n",
    "# plt.title(\"UMA Classification, n=20\")\n",
    "plt.xlabel(\"height (cm)\")\n",
    "plt.ylabel(\"weight (kg)\")\n",
    "\n",
    "# 集団ごとにfor文でscatterの色を分ける(既知データ)\n",
    "colors=['red','blue'] # 分類結果が0ならred、1ならblue\n",
    "############ この下の3行のコメントを外しましょう、その1 ############\n",
    "for i in range(2): # 2値分類なので2\n",
    "   散布図データ=説明変数Xの配列[目的変数Yの配列==i]\n",
    "   plt.scatter(散布図データ[:,0],散布図データ[:,1],marker=\"o\",c=colors[i],s=20)# 丸形でサイズ20\n",
    "    \n",
    "# 未知データも散布図へ重ねる\n",
    "############ この下の3行のコメントを外しましょう、その2 ############\n",
    "for i in range(2): # 2値分類なので2\n",
    "   散布図データ=未知Xの配列[分類結果==i]    \n",
    "#    plt.scatter(散布図データ[:,0],散布図データ[:,1],marker=\"o\",c=colors[i],s=20)# 丸形でサイズ20\n",
    "   plt.scatter(散布図データ[:,0],散布図データ[:,1],marker=\"o\",c=colors[i],s=80)\n",
    "#     任意課題(3)で形を変えたい時は、好きな形(星形など)やサイズにしましょう\n",
    "\n",
    "plt.show()"
   ]
  },
  {
   "cell_type": "markdown",
   "metadata": {},
   "source": [
    "ここまでで、第4回第2章は終了です。お疲れさまでした。\n",
    "一息入れて、第3章の講義に進んでください。"
   ]
  }
 ],
 "metadata": {
  "kernelspec": {
   "display_name": "Python 3 (ipykernel)",
   "language": "python",
   "name": "python3"
  },
  "language_info": {
   "codemirror_mode": {
    "name": "ipython",
    "version": 3
   },
   "file_extension": ".py",
   "mimetype": "text/x-python",
   "name": "python",
   "nbconvert_exporter": "python",
   "pygments_lexer": "ipython3",
   "version": "3.10.6"
  }
 },
 "nbformat": 4,
 "nbformat_minor": 2
}
