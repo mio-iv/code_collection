{
 "cells": [
  {
   "cell_type": "markdown",
   "metadata": {},
   "source": [
    "# 第2回演習「matplotlibによる可視化」"
   ]
  },
  {
   "cell_type": "markdown",
   "metadata": {},
   "source": [
    "この演習では可視化ライブラリを用いた表現の方法を習得します。<hr />"
   ]
  },
  {
   "cell_type": "markdown",
   "metadata": {},
   "source": [
    "## 【2-17】棒グラフ\n",
    "<img src=\"https://pfe.p.cyber-u.ac.jp/img/Python/Week3/2-17.png\" style=\"margin:30px;float: left;width:500px;\">\n",
    "<div style=\"clear: both;\"></div>\n",
    "上の画像を見ながら、棒グラフ出力のプログラムを作成しましょう。"
   ]
  },
  {
   "cell_type": "code",
   "execution_count": null,
   "metadata": {},
   "outputs": [],
   "source": [
    "# ↓ここにプログラムを書き、Shift + Enter でimport numpy as np\n"
   ]
  },
  {
   "cell_type": "markdown",
   "metadata": {},
   "source": [
    "## 【2-18】折れ線グラフ\n",
    "<img src=\"https://pfe.p.cyber-u.ac.jp/img/Python/Week3/2-18.png\" style=\"margin:30px;float: left;width:500px;\">\n",
    "<div style=\"clear: both;\"></div>\n",
    "上の画像を見ながら、折れ線グラフ出力のプログラムを作成しましょう。"
   ]
  },
  {
   "cell_type": "code",
   "execution_count": null,
   "metadata": {},
   "outputs": [],
   "source": [
    "# 2-17の棒グラフのプログラムをを実行していれば、numpy と matplotlib のライブラリは既に読み込まれています。\n"
   ]
  },
  {
   "cell_type": "markdown",
   "metadata": {},
   "source": [
    "## 【2-19】散布図(ランダムなデータを使う)\n",
    "<img src=\"https://pfe.p.cyber-u.ac.jp/img/Python/Week3/2-19.png\" style=\"margin:30px;float: left;width:700px;\">\n",
    "<div style=\"clear: both;\"></div>\n",
    "上の画像を見ながら、散布図出力のプログラムを作成しましょう。"
   ]
  },
  {
   "cell_type": "code",
   "execution_count": null,
   "metadata": {},
   "outputs": [],
   "source": [
    "# ↓ここに…\n"
   ]
  },
  {
   "cell_type": "markdown",
   "metadata": {},
   "source": [
    "## 【2-20】曲線のように見せる\n",
    "<img src=\"https://pfe.p.cyber-u.ac.jp/img/Python/Week3/2-20.png\" style=\"margin:30px;float: left;width:700px;\">\n",
    "<div style=\"clear: both;\"></div>\n",
    "上の画像を見ながら、2次関数を表示するプログラムを作成しましょう。"
   ]
  },
  {
   "cell_type": "code",
   "execution_count": null,
   "metadata": {},
   "outputs": [],
   "source": []
  },
  {
   "cell_type": "markdown",
   "metadata": {},
   "source": [
    "## 【2-21】2つのグラフを重ねて表示\n",
    "<img src=\"https://pfe.p.cyber-u.ac.jp/img/Python/Week3/2-21.png\" style=\"margin:30px;float: left;width:600px;\">\n",
    "<div style=\"clear: both;\"></div>\n",
    "上の画像を見ながら、2つのグラフを重ねて出力するプログラムを作成しましょう。"
   ]
  },
  {
   "cell_type": "code",
   "execution_count": null,
   "metadata": {},
   "outputs": [],
   "source": []
  },
  {
   "cell_type": "markdown",
   "metadata": {},
   "source": [
    "## 【2-22】ヒストグラム(テストの点数の度数分布)\n",
    "<img src=\"https://pfe.p.cyber-u.ac.jp/img/Python/Week3/2-22.png\" style=\"margin:30px;float: left;width:960px;\">\n",
    "<div style=\"clear: both;\"></div>\n",
    "上の画像を見ながら、ヒストグラム出力のプログラムを作成しましょう。"
   ]
  },
  {
   "cell_type": "code",
   "execution_count": null,
   "metadata": {},
   "outputs": [],
   "source": []
  },
  {
   "cell_type": "markdown",
   "metadata": {},
   "source": [
    "## 【2-23】本物のデータを使おう(気象データの折れ線グラフ)\n",
    "<img src=\"https://pfe.p.cyber-u.ac.jp/img/Python/Week3/2-23.png\" style=\"margin:30px;float: left;width:800px;\">\n",
    "<div style=\"clear: both;\"></div>\n",
    "上の画像を見ながら、気象データを折れ線グラフとして出力するプログラムを作成しましょう。"
   ]
  },
  {
   "cell_type": "code",
   "execution_count": null,
   "metadata": {},
   "outputs": [],
   "source": []
  },
  {
   "cell_type": "markdown",
   "metadata": {},
   "source": [
    "## 【2-24】本物のデータを使おう(気象データの散布図)\n",
    "<img src=\"https://pfe.p.cyber-u.ac.jp/img/Python/Week3/2-24.png\" style=\"margin:30px;float: left;width:700px;\">\n",
    "<div style=\"clear: both;\"></div>\n",
    "上の画像を見ながら、散布図のプログラムを作成しましょう。"
   ]
  },
  {
   "cell_type": "code",
   "execution_count": null,
   "metadata": {},
   "outputs": [],
   "source": []
  },
  {
   "cell_type": "markdown",
   "metadata": {},
   "source": [
    "## 【2-25】グラフでアニメーション\n",
    "<img src=\"https://pfe.p.cyber-u.ac.jp/img/Python/Week3/2-25.png\" style=\"margin:30px;float: left;width:960px;\">\n",
    "<div style=\"clear: both;\"></div>\n",
    "上の画像を見ながら、棒グラフをアニメーション表示するプログラムを作成しましょう。<br />\n",
    "下のプログラム中に「ここが不完全なので補ってください!!!!」が1か所あります。"
   ]
  },
  {
   "cell_type": "code",
   "execution_count": null,
   "metadata": {},
   "outputs": [],
   "source": [
    "import matplotlib.animation as animation\n",
    "%matplotlib nbagg\n",
    "\n",
    "fig = plt.figure() # まっさらな新しい描画領域を作る\n",
    "\n",
    "パラパラ漫画の全て = [] # リストのリスト\n",
    "X軸=range(10) # X軸は[0,1,2,3,4,5,6,7,8,9]\n",
    "\n",
    "for i in range(50):\n",
    "        # 0以上10未満の乱数を10個生成しリストにする\n",
    "        乱数のリスト = np.random.randint(0,10,10)\n",
    "        # 10個の乱数をグラフにする        \n",
    "        パラパラ漫画の1枚分 = plt.bar(X軸,乱数のリスト,color='c')\n",
    "        # グラフをパラパラ漫画に追加        \n",
    "        # ここが不完全なので補ってください!!!!            \n",
    "\n",
    "ani=animation.ArtistAnimation(fig, パラパラ漫画の全て, interval=500,repeat=False) "
   ]
  },
  {
   "cell_type": "markdown",
   "metadata": {},
   "source": [
    "## 【2-26】並べ替えのアニメーション\n",
    "<img src=\"https://pfe.p.cyber-u.ac.jp/img/Python/Week3/2-26.png\" style=\"margin:30px;float: left;width:860px;\">\n",
    "<div style=\"clear: both;\"></div>\n",
    "上の画像を見ながら、並べ替えをアニメーション表示するプログラムを作成しましょう。<br />\n",
    "下のプログラム中に「ここが不完全なので補ってください!!!!」が2か所あります。<br />\n",
    "その全てを修正し、上の画像と同じになるようにしてください。<br />\n",
    "修正がうまくいけば、アニメーションが出力されます。"
   ]
  },
  {
   "cell_type": "code",
   "execution_count": null,
   "metadata": {},
   "outputs": [],
   "source": [
    "import matplotlib.animation as animation\n",
    "%matplotlib nbagg\n",
    "\n",
    "fig = plt.figure() # まっさらな新しい描画領域を作る\n",
    "\n",
    "パラパラ漫画の全て = [] # ソート途中のリストを全てAppendしていく配列\n",
    "X軸=range(10) # X軸は[0,1,2,3,4,5,6,7,8,9]\n",
    "\n",
    "def バブルソート(リスト):\n",
    "    # 見る範囲を1ずつ狭めていく\n",
    "    for i in range(len(リスト)): \n",
    "        # リストの最後尾から開始位置まで1ずつ遡る\n",
    "        for j in range(len(リスト)-1, i, -1): \n",
    "            # 後ろのほうが小さかったら\n",
    "            if リスト[j] < リスト[j-1]: \n",
    "                # リスト[j]とリスト[j-1]を入れ替える\n",
    "                一時的な値 = リスト[j]\n",
    "                リスト[j] = リスト[j-1]\n",
    "                リスト[j-1] = 一時的な値\n",
    "            # ソート中のリストをグラフに                \n",
    "            # ここが不完全なので補ってください!!!! \n",
    "            # グラフをパラパラ漫画に追加            \n",
    "            # ここが不完全なので補ってください!!!!\n",
    "            print(リスト) # 並べ替える最中のリストを画面出力\n",
    "\n",
    "バブルソート([31,53,69,12,74,88,46,92,21,5])\n",
    "\n",
    "ani=animation.ArtistAnimation(fig,パラパラ漫画の全て,interval=500, repeat=False)"
   ]
  },
  {
   "cell_type": "markdown",
   "metadata": {},
   "source": [
    "ここまでで、第2回第4章は終了です。お疲れさまでした。"
   ]
  }
 ],
 "metadata": {
  "kernelspec": {
   "display_name": "Python 3 (ipykernel)",
   "language": "python",
   "name": "python3"
  },
  "language_info": {
   "codemirror_mode": {
    "name": "ipython",
    "version": 3
   },
   "file_extension": ".py",
   "mimetype": "text/x-python",
   "name": "python",
   "nbconvert_exporter": "python",
   "pygments_lexer": "ipython3",
   "version": "3.10.6"
  }
 },
 "nbformat": 4,
 "nbformat_minor": 2
}
