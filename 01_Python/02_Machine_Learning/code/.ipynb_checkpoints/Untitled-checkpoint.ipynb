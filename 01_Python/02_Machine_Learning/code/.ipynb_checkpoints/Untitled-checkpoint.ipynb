{
 "cells": [
  {
   "cell_type": "code",
   "execution_count": 1,
   "id": "0c9f9d16",
   "metadata": {},
   "outputs": [
    {
     "name": "stdout",
     "output_type": "stream",
     "text": [
      "{'父': [{'波平': 'サザエ'}, {'波平': 'カツオ'}, {'波平': 'ワカメ'}, {'マスオ': 'タラオ'}, {'ノリスケ': 'イクラ'}, {'波平の父': '波平'}, {'波平の父': '海平'}, {'波平の父': 'なぎえ'}, {'ノリスケの父': 'ノリスケ'}], '母': [{'フネ': 'サザエ'}, {'フネ': 'カツオ'}, {'フネ': 'ワカメ'}, {'サザエ': 'タラオ'}, {'タイ子': 'イクラ'}, {'波平の母': '波平'}, {'波平の母': '海平'}, {'波平の母': 'なぎえ'}, {'なぎえ': 'ノリスケ'}]}\n"
     ]
    }
   ],
   "source": [
    "import json \n",
    "\n",
    "with open('myFamily.json',encoding='utf-8') as f: \n",
    "    Family_json = json.loads(f.read())\n",
    "\n",
    "print(Family_json)"
   ]
  },
  {
   "cell_type": "code",
   "execution_count": 2,
   "id": "7e28ed31",
   "metadata": {},
   "outputs": [
    {
     "name": "stdout",
     "output_type": "stream",
     "text": [
      "['波平']\n",
      "['波平']\n",
      "['波平']\n",
      "['マスオ']\n",
      "['ノリスケ']\n",
      "['波平の父']\n",
      "['波平の父']\n",
      "['波平の父']\n",
      "['ノリスケの父']\n"
     ]
    }
   ],
   "source": [
    "# 誰かの父\n",
    "for item in Family_json['父']:\n",
    "    print(list(item.keys()))"
   ]
  },
  {
   "cell_type": "code",
   "execution_count": 3,
   "id": "81fb5aae",
   "metadata": {},
   "outputs": [
    {
     "ename": "ImportError",
     "evalue": "cannot import name 'Iterator' from 'collections' (/Users/natsumi/.pyenv/versions/3.10.6/lib/python3.10/collections/__init__.py)",
     "output_type": "error",
     "traceback": [
      "\u001b[0;31m---------------------------------------------------------------------------\u001b[0m",
      "\u001b[0;31mImportError\u001b[0m                               Traceback (most recent call last)",
      "Cell \u001b[0;32mIn [3], line 2\u001b[0m\n\u001b[1;32m      1\u001b[0m \u001b[38;5;66;03m# 〇〇は誰の父か?\u001b[39;00m\n\u001b[0;32m----> 2\u001b[0m \u001b[38;5;28;01mfrom\u001b[39;00m \u001b[38;5;21;01mkanren\u001b[39;00m \u001b[38;5;28;01mimport\u001b[39;00m \u001b[38;5;241m*\u001b[39m \u001b[38;5;66;03m# 論理プログラミング用ライブラリ\u001b[39;00m\n\u001b[1;32m      4\u001b[0m \u001b[38;5;66;03m# 父である、という関係を定義\u001b[39;00m\n\u001b[1;32m      5\u001b[0m is_father \u001b[38;5;241m=\u001b[39m Relation()\n",
      "File \u001b[0;32m~/.pyenv/versions/3.10.6/lib/python3.10/site-packages/kanren/__init__.py:7\u001b[0m\n\u001b[1;32m      2\u001b[0m \u001b[38;5;124;03m\"\"\"\u001b[39;00m\n\u001b[1;32m      3\u001b[0m \u001b[38;5;124;03mkanren is a Python library for logic and relational programming.\u001b[39;00m\n\u001b[1;32m      4\u001b[0m \u001b[38;5;124;03m\"\"\"\u001b[39;00m\n\u001b[1;32m      5\u001b[0m \u001b[38;5;28;01mfrom\u001b[39;00m \u001b[38;5;21;01m__future__\u001b[39;00m \u001b[38;5;28;01mimport\u001b[39;00m absolute_import\n\u001b[0;32m----> 7\u001b[0m \u001b[38;5;28;01mfrom\u001b[39;00m \u001b[38;5;21;01munification\u001b[39;00m \u001b[38;5;28;01mimport\u001b[39;00m (unify, reify, unifiable, var, isvar, \u001b[38;5;28mvars\u001b[39m, variables,\n\u001b[1;32m      8\u001b[0m                          Var)\n\u001b[1;32m     10\u001b[0m \u001b[38;5;28;01mfrom\u001b[39;00m \u001b[38;5;21;01m.\u001b[39;00m\u001b[38;5;21;01mcore\u001b[39;00m \u001b[38;5;28;01mimport\u001b[39;00m run, eq, conde, lall, lany\n\u001b[1;32m     11\u001b[0m \u001b[38;5;28;01mfrom\u001b[39;00m \u001b[38;5;21;01m.\u001b[39;00m\u001b[38;5;21;01mgoals\u001b[39;00m \u001b[38;5;28;01mimport\u001b[39;00m seteq, permuteq, goalify, membero\n",
      "File \u001b[0;32m~/.pyenv/versions/3.10.6/lib/python3.10/site-packages/unification/__init__.py:1\u001b[0m\n\u001b[0;32m----> 1\u001b[0m \u001b[38;5;28;01mfrom\u001b[39;00m \u001b[38;5;21;01m.\u001b[39;00m\u001b[38;5;21;01mcore\u001b[39;00m \u001b[38;5;28;01mimport\u001b[39;00m unify, reify\n\u001b[1;32m      2\u001b[0m \u001b[38;5;28;01mfrom\u001b[39;00m \u001b[38;5;21;01m.\u001b[39;00m\u001b[38;5;21;01mmore\u001b[39;00m \u001b[38;5;28;01mimport\u001b[39;00m unifiable\n\u001b[1;32m      3\u001b[0m \u001b[38;5;28;01mfrom\u001b[39;00m \u001b[38;5;21;01m.\u001b[39;00m\u001b[38;5;21;01mvariable\u001b[39;00m \u001b[38;5;28;01mimport\u001b[39;00m var, isvar, \u001b[38;5;28mvars\u001b[39m, variables, Var\n",
      "File \u001b[0;32m~/.pyenv/versions/3.10.6/lib/python3.10/site-packages/unification/core.py:2\u001b[0m\n\u001b[1;32m      1\u001b[0m \u001b[38;5;28;01mfrom\u001b[39;00m \u001b[38;5;21;01mfunctools\u001b[39;00m \u001b[38;5;28;01mimport\u001b[39;00m partial\n\u001b[0;32m----> 2\u001b[0m \u001b[38;5;28;01mfrom\u001b[39;00m \u001b[38;5;21;01mcollections\u001b[39;00m \u001b[38;5;28;01mimport\u001b[39;00m Iterator\n\u001b[1;32m      3\u001b[0m \u001b[38;5;28;01mfrom\u001b[39;00m \u001b[38;5;21;01mtoolz\u001b[39;00m\u001b[38;5;21;01m.\u001b[39;00m\u001b[38;5;21;01mcompatibility\u001b[39;00m \u001b[38;5;28;01mimport\u001b[39;00m iteritems, \u001b[38;5;28mmap\u001b[39m\n\u001b[1;32m      4\u001b[0m \u001b[38;5;28;01mfrom\u001b[39;00m \u001b[38;5;21;01mtoolz\u001b[39;00m \u001b[38;5;28;01mimport\u001b[39;00m assoc\n",
      "\u001b[0;31mImportError\u001b[0m: cannot import name 'Iterator' from 'collections' (/Users/natsumi/.pyenv/versions/3.10.6/lib/python3.10/collections/__init__.py)"
     ]
    }
   ],
   "source": [
    "# 〇〇は誰の父か?\n",
    "from kanren import * # 論理プログラミング用ライブラリ\n",
    "\n",
    "# 父である、という関係を定義\n",
    "is_father = Relation()\n",
    "\n",
    "for item in Family_json['父']:\n",
    "    facts(is_father, (list(item.keys())[0], list(item.values())[0]))\n",
    "\n",
    "x = var()\n",
    "result_all = run(0, x, (is_father, 'マスオ', x))\n",
    "\n",
    "for result in result_all:\n",
    "    print(result)"
   ]
  },
  {
   "cell_type": "code",
   "execution_count": null,
   "id": "5fc365d4",
   "metadata": {},
   "outputs": [],
   "source": []
  }
 ],
 "metadata": {
  "kernelspec": {
   "display_name": "Python 3 (ipykernel)",
   "language": "python",
   "name": "python3"
  },
  "language_info": {
   "codemirror_mode": {
    "name": "ipython",
    "version": 3
   },
   "file_extension": ".py",
   "mimetype": "text/x-python",
   "name": "python",
   "nbconvert_exporter": "python",
   "pygments_lexer": "ipython3",
   "version": "3.10.6"
  }
 },
 "nbformat": 4,
 "nbformat_minor": 5
}
