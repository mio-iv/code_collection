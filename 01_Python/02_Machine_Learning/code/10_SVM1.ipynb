{
 "cells": [
  {
   "cell_type": "markdown",
   "metadata": {},
   "source": [
    "# 第10回演習「サポートベクタマシンによる分類」"
   ]
  },
  {
   "cell_type": "markdown",
   "metadata": {},
   "source": [
    "\n",
    "この演習では、決定境界周辺のマージンを意識した分類方法を習得します。<br /><br />\n",
    "グレイの背景のプログラムは上から順に、1つずつ実行していきましょう。<br />\n",
    "途中のどこかを飛ばすと、意図と違う挙動になります。<hr />"
   ]
  },
  {
   "cell_type": "markdown",
   "metadata": {},
   "source": [
    "## 1) データセットを作り、散布図を表示"
   ]
  },
  {
   "cell_type": "code",
   "execution_count": 9,
   "metadata": {
    "scrolled": true
   },
   "outputs": [
    {
     "data": {
      "image/png": "[encoded data removed]",
      "text/plain": [
       "<Figure size 360x360 with 1 Axes>"
      ]
     },
     "metadata": {
      "needs_background": "light"
     },
     "output_type": "display_data"
    },
    {
     "name": "stdout",
     "output_type": "stream",
     "text": [
      "100\n",
      "80\n",
      "20\n",
      "==========\n",
      "[[ 0.33141683  0.50795764]\n",
      " [ 0.38611687  0.50436979]\n",
      " [ 0.54166837  0.65875786]\n",
      " [-1.31319884 -0.80562741]\n",
      " [ 0.21313284  0.39054499]\n",
      " [ 0.39121161  0.96231593]\n",
      " [-0.6168052  -0.63266031]\n",
      " [-1.22386664 -0.90327438]\n",
      " [ 0.98073551  0.8701287 ]\n",
      " [ 0.32635804  0.46259136]\n",
      " [-1.15858052 -1.09068529]\n",
      " [ 0.39659525  0.3131363 ]\n",
      " [-0.5331105  -1.24431947]\n",
      " [-1.40347446 -1.05318507]\n",
      " [ 0.96688974  0.72651116]\n",
      " [-1.22194644 -1.49519912]\n",
      " [ 0.6441477   0.44792531]\n",
      " [-0.88903419 -0.91658142]\n",
      " [ 0.34103848  0.66910832]\n",
      " [ 1.09578619  0.73611987]\n",
      " [-0.95564346 -1.10044523]\n",
      " [ 0.28469358  0.97751624]\n",
      " [-1.22682459 -0.98701365]\n",
      " [ 0.71420765  0.3372436 ]\n",
      " [-0.94793126 -0.75584024]\n",
      " [-0.98856037 -1.04679596]\n",
      " [-0.89941459 -1.17120252]\n",
      " [ 0.66807369  0.60186546]\n",
      " [-1.21769929 -1.14471242]\n",
      " [-0.78389095 -1.18554126]\n",
      " [-0.80974057 -0.96958125]\n",
      " [-0.99737499 -0.55353238]\n",
      " [ 0.65351984  0.73055167]\n",
      " [ 0.43299916  0.7006141 ]\n",
      " [-0.43256134 -1.36359142]\n",
      " [ 0.69294764  0.70587604]\n",
      " [-0.96398911 -0.63643162]\n",
      " [-0.71514983 -1.30870646]\n",
      " [-1.12741305 -1.10951858]\n",
      " [ 0.7373552   0.52188781]\n",
      " [-1.29128746 -0.77479338]\n",
      " [-1.40754959 -0.88430444]\n",
      " [ 0.31381129  0.29339037]\n",
      " [ 0.65630786  0.09948559]\n",
      " [-0.7553155  -0.4397767 ]\n",
      " [ 0.17102315  0.38460385]\n",
      " [-1.63824745 -0.83659535]\n",
      " [ 0.20671915  0.9859053 ]\n",
      " [-1.07788813 -0.98595866]\n",
      " [-1.02580471 -0.89735037]\n",
      " [ 0.59900168  0.22673462]\n",
      " [-0.70530511 -1.04498121]\n",
      " [-0.69242733 -0.69940504]\n",
      " [-0.81772736 -0.96775427]\n",
      " [-1.00704556 -0.89291703]\n",
      " [-0.88358439 -1.38406092]\n",
      " [ 0.41150152  0.15626218]\n",
      " [ 0.63081917  0.45711342]\n",
      " [ 0.59410638  0.2251498 ]\n",
      " [-1.12770128 -1.29515805]\n",
      " [ 0.31510925  0.88575365]\n",
      " [-0.96126314 -0.90545937]\n",
      " [ 0.22390417  0.51304127]\n",
      " [-1.0968317  -1.07557569]\n",
      " [ 0.24143929  0.67039863]\n",
      " [ 0.57455954  0.83159647]\n",
      " [ 0.1271856   0.60984793]\n",
      " [ 0.17678577  0.56676272]\n",
      " [ 0.29914758  0.32761256]\n",
      " [-0.62648023 -1.05128957]\n",
      " [ 0.73681299  0.46124748]\n",
      " [ 0.19364112  0.71109074]\n",
      " [-1.42656755 -0.51230615]\n",
      " [-1.08697804 -0.96091276]\n",
      " [-1.16811511 -1.08988829]\n",
      " [ 0.37549189  0.98238301]\n",
      " [ 0.3390954  -0.05585079]\n",
      " [-1.26213824 -1.35500448]\n",
      " [ 0.4901793   0.20797663]\n",
      " [-0.62793695 -0.52602771]]\n",
      "==========\n",
      "[[ 0.30752098  0.6348123 ]\n",
      " [ 0.79700745  0.57923565]\n",
      " [ 0.27179444  0.77925407]\n",
      " [ 0.4829396   0.92833568]\n",
      " [ 0.18237875  0.74234918]\n",
      " [-0.9109084  -0.82335671]\n",
      " [-0.55898691 -0.8999607 ]\n",
      " [-0.96827198 -0.89950266]\n",
      " [ 0.78165898  0.23001712]\n",
      " [-0.7624779  -1.0378393 ]\n",
      " [ 0.73021471  0.57968191]\n",
      " [-0.98337069 -0.92438203]\n",
      " [-1.26768816 -0.73638707]\n",
      " [-1.10079424 -0.69438873]\n",
      " [ 0.47538687  0.33413043]\n",
      " [-1.20328657 -1.43157065]\n",
      " [ 1.04080899  0.83413199]\n",
      " [ 0.97078767  0.16306023]\n",
      " [ 0.24994616  0.11380723]\n",
      " [-0.92173307 -1.21352393]]\n",
      "[0 1 0 1 1 0 0 1 0 0 1 0 1 1 1 0 1 1 1 1 1 0 0 0 0 0 0 0 0 1 0 0 1 1 1 1 1\n",
      " 0 1 1 0 1 1 1 1 0 0 0 0 1 0 0 0 0 0 1 0 1 1 1 1 1 1 1 0 0 0 1 1 0 0 1 0 1\n",
      " 0 0 0 1 0 1 1 1 1 0 1 1 0 1 0 1 0 0 0 1 0 0 1 0 1 0]\n"
     ]
    }
   ],
   "source": [
    "import sys\n",
    "import numpy as np\n",
    "import matplotlib.cm as cm\n",
    "import matplotlib.pyplot as plt\n",
    "from sklearn.svm import SVC\n",
    "from sklearn.datasets import make_blobs\n",
    "from sklearn.metrics import accuracy_score\n",
    "from sklearn.cross_validation import train_test_split\n",
    "\n",
    "# 2値分類における、2つの中心点\n",
    "中心点の配列=[(-1,-1),(0.5,0.5)]\n",
    "\n",
    "# データセット作成\n",
    "座標の配列X,ラベルy=make_blobs(n_samples=100,n_features=2,centers=中心点の配列,\n",
    "                       cluster_std=0.25,random_state=0)\n",
    "\n",
    "# データセットを学習データ(座標)、未知データ(座標)、学習データ(ラベル)、未知データ(ラベル)に分割\n",
    "学習データのX,テストデータのX,学習データのラベルy,テストデータのラベルy=train_test_split(座標の配列X,\n",
    "                                                         ラベルy,test_size=0.2,random_state=4)\n",
    "plt.figure(figsize=(5,5))\n",
    "# 学習データを散布図に\n",
    "plt.scatter(学習データのX[:,0],学習データのX[:,1],c=学習データのラベルy,marker=\"o\",s=10,cmap=cm.Accent)\n",
    "# 未知データはまだ表示しない\n",
    "#plt.scatter(テストデータのX[:,0],テストデータのX[:,1],c=テストデータのラベルy,cmap=cm.seismic,marker=\"o\")\n",
    "\n",
    "plt.xlim(-2, 1.5) # グラフの描画範囲\n",
    "plt.ylim(-2, 1.5)\n",
    "plt.show()\n",
    "\n",
    "print(len(座標の配列X))\n",
    "print(len(学習データのX))\n",
    "print(len(テストデータのX))\n",
    "\n",
    "print(\"==========\")\n",
    "# print(学習データのX)\n",
    "print(\"==========\")\n",
    "# print(テストデータのX)\n",
    "print(ラベルy)"
   ]
  },
  {
   "cell_type": "markdown",
   "metadata": {},
   "source": [
    "## 小出しの任意課題(その1) \n",
    "\n",
    "<span style=\"background-color:#FFFF99\">分割によってテストデータは20件になった…と思われます。<br />\n",
    "上のプログラムを少し改造し、本当に20件になったかを確認してください。</span><hr />"
   ]
  },
  {
   "cell_type": "markdown",
   "metadata": {},
   "source": [
    "## 2) 良い分類とは何か、を考える"
   ]
  },
  {
   "cell_type": "code",
   "execution_count": null,
   "metadata": {},
   "outputs": [],
   "source": [
    "# オレオレ決定境界を引く\n",
    "\n",
    "plt.figure(figsize=(5,5))\n",
    "# 学習データ\n",
    "plt.scatter(学習データのX[:,0],学習データのX[:,1],c=学習データのラベルy,marker=\"o\",s=10,cmap=cm.Accent)\n",
    "# 未知データはまだ表示しない\n",
    "#plt.scatter(テストデータのX[:,0],テストデータのX[:,1],c=テストデータのラベルy,cmap=cm.seismic,marker=\"o\")\n",
    "\n",
    "決定境界のX範囲=np.linspace(-2,1.5,50) # 等間隔に50個の数値を得る\n",
    "plt.plot(決定境界のX範囲,-0.01*決定境界のX範囲-0.24,'k') # 適当に引いたオレオレ決定境界、その1\n",
    "plt.plot(決定境界のX範囲,-0.15*決定境界のX範囲-0.24,'k') # 適当に引いたオレオレ決定境界、その2\n",
    "\n",
    "plt.xlim(-2, 1.5) # グラフの描画範囲\n",
    "plt.ylim(-2, 1.5)\n",
    "plt.show()"
   ]
  },
  {
   "cell_type": "markdown",
   "metadata": {},
   "source": [
    "\n",
    "## 3) SVMで学習させ、決定境界を引く"
   ]
  },
  {
   "cell_type": "code",
   "execution_count": 10,
   "metadata": {},
   "outputs": [
    {
     "data": {
      "image/png": "[encoded data removed]",
      "text/plain": [
       "<Figure size 360x360 with 1 Axes>"
      ]
     },
     "metadata": {
      "needs_background": "light"
     },
     "output_type": "display_data"
    },
    {
     "name": "stdout",
     "output_type": "stream",
     "text": [
      "[[1.67275103 0.81330156]]\n",
      "[0.47820134]\n"
     ]
    }
   ],
   "source": [
    "plt.figure(figsize=(5,5))\n",
    "\n",
    "# 学習データを散布図に\n",
    "plt.scatter(学習データのX[:,0],学習データのX[:,1],c=学習データのラベルy,marker=\"o\",s=10,cmap=cm.Accent)\n",
    "# 未知データはまだ表示しない\n",
    "#plt.scatter(テストデータのX[:,0],テストデータのX[:,1],c=テストデータのラベルy,cmap=cm.seismic,marker=\"o\")\n",
    "\n",
    "# SVMで学習\n",
    "線形SVM=SVC(kernel='linear',C=sys.maxsize) # 誤分類には厳しく\n",
    "線形SVM.fit(学習データのX,学習データのラベルy) # 学習完了\n",
    "\n",
    "# 決定境界を引く\n",
    "係数 = 線形SVM.coef_[0] # coef[0]はXとYの係数\n",
    "傾き = -係数[0] / 係数[1] # これで傾きを計算\n",
    "Xの描画点 = np.linspace(-5, 5, 50)\n",
    "Yの描画点 = 傾き * Xの描画点 - (線形SVM.intercept_[0]) / 係数[1] # intercept_ は切片に使う\n",
    "plt.plot(Xの描画点, Yの描画点,linestyle='solid',color='k')\n",
    "\n",
    "plt.xlim(-2, 1.5) # グラフの描画範囲\n",
    "plt.ylim(-2, 1.5)\n",
    "plt.show()\n",
    "\n",
    "print(線形SVM.coef_) # 係数\n",
    "print(線形SVM.intercept_) # 定数項"
   ]
  },
  {
   "cell_type": "markdown",
   "metadata": {},
   "source": [
    "## 4) SVMで学習させ、マージンも示す"
   ]
  },
  {
   "cell_type": "code",
   "execution_count": 15,
   "metadata": {},
   "outputs": [
    {
     "name": "stdout",
     "output_type": "stream",
     "text": [
      "0.5376378720315496\n"
     ]
    },
    {
     "data": {
      "image/png": "[encoded data removed]",
      "text/plain": [
       "<Figure size 360x360 with 1 Axes>"
      ]
     },
     "metadata": {
      "needs_background": "light"
     },
     "output_type": "display_data"
    },
    {
     "name": "stdout",
     "output_type": "stream",
     "text": [
      "0.5376378720315496\n",
      "[  8.46617553   8.04643238   7.62668923   7.20694608   6.78720293\n",
      "   6.36745978   5.94771663   5.52797348   5.10823033   4.68848718\n",
      "   4.26874403   3.84900087   3.42925772   3.00951457   2.58977142\n",
      "   2.17002827   1.75028512   1.33054197   0.91079882   0.49105567\n",
      "   0.07131252  -0.34843063  -0.76817378  -1.18791694  -1.60766009\n",
      "  -2.02740324  -2.44714639  -2.86688954  -3.28663269  -3.70637584\n",
      "  -4.12611899  -4.54586214  -4.96560529  -5.38534844  -5.80509159\n",
      "  -6.22483475  -6.6445779   -7.06432105  -7.4840642   -7.90380735\n",
      "  -8.3235505   -8.74329365  -9.1630368   -9.58277995 -10.0025231\n",
      " -10.42226625 -10.8420094  -11.26175256 -11.68149571 -12.10123886] [10.92528799 10.50554484 10.08580168  9.66605853  9.24631538  8.82657223\n",
      "  8.40682908  7.98708593  7.56734278  7.14759963  6.72785648  6.30811333\n",
      "  5.88837018  5.46862703  5.04888387  4.62914072  4.20939757  3.78965442\n",
      "  3.36991127  2.95016812  2.53042497  2.11068182  1.69093867  1.27119552\n",
      "  0.85145237  0.43170922  0.01196606 -0.40777709 -0.82752024 -1.24726339\n",
      " -1.66700654 -2.08674969 -2.50649284 -2.92623599 -3.34597914 -3.76572229\n",
      " -4.18546544 -4.60520859 -5.02495175 -5.4446949  -5.86443805 -6.2841812\n",
      " -6.70392435 -7.1236675  -7.54341065 -7.9631538  -8.38289695 -8.8026401\n",
      " -9.22238325 -9.6421264 ]\n"
     ]
    }
   ],
   "source": [
    "plt.figure(figsize=(5,5))\n",
    "\n",
    "# 学習データを散布図に\n",
    "plt.scatter(学習データのX[:,0],学習データのX[:,1],c=学習データのラベルy,marker=\"o\",s=10,cmap=cm.Accent)\n",
    "# 未知データはまだ表示しない\n",
    "#plt.scatter(テストデータのX[:,0],テストデータのX[:,1],c=テストデータのラベルy,cmap=cm.seismic,marker=\"o\")\n",
    "\n",
    "# マージンの座標を計算\n",
    "マージン = 1/np.sqrt(np.sum(線形SVM.coef_**2))\n",
    "print(マージン)\n",
    "マージン描画点のY_1 = Yの描画点 - np.sqrt(1+傾き**2) * マージン\n",
    "マージン描画点のY_2 = Yの描画点 + np.sqrt(1+傾き**2) * マージン\n",
    "\n",
    "plt.plot(Xの描画点, Yの描画点,linestyle='solid',color='k')\n",
    "plt.plot(Xの描画点, マージン描画点のY_1, linestyle='dashed',color='k')\n",
    "plt.plot(Xの描画点, マージン描画点のY_2, linestyle='dashed',color='k')\n",
    "# ↑ マージン範囲の破線が1本しか引かれていません! \n",
    "\n",
    "plt.xlim(-2, 1.5) # グラフの描画範囲\n",
    "plt.ylim(-2, 1.5)\n",
    "plt.show()\n",
    "\n",
    "print(マージン)\n",
    "print(マージン描画点のY_1,マージン描画点のY_2)"
   ]
  },
  {
   "cell_type": "markdown",
   "metadata": {},
   "source": [
    "## 小出しの任意課題(その2) \n",
    "\n",
    "<span style=\"background-color:#FFFF99\">上の図では、マージンの破線が片方しか引かれていません。<br />\n",
    "もう一方も引き、図を完成させてください。</span>\n",
    "<hr />"
   ]
  },
  {
   "cell_type": "markdown",
   "metadata": {},
   "source": [
    "第10回第2章の演習はここまでです。引き続き、第3章の講義を見ましょう。"
   ]
  },
  {
   "cell_type": "code",
   "execution_count": null,
   "metadata": {},
   "outputs": [],
   "source": []
  }
 ],
 "metadata": {
  "kernelspec": {
   "display_name": "Python 3 (ipykernel)",
   "language": "python",
   "name": "python3"
  },
  "language_info": {
   "codemirror_mode": {
    "name": "ipython",
    "version": 3
   },
   "file_extension": ".py",
   "mimetype": "text/x-python",
   "name": "python",
   "nbconvert_exporter": "python",
   "pygments_lexer": "ipython3",
   "version": "3.10.6"
  }
 },
 "nbformat": 4,
 "nbformat_minor": 2
}
