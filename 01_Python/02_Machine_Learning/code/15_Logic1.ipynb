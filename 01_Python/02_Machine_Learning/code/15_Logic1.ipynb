{
 "cells": [
  {
   "cell_type": "markdown",
   "metadata": {},
   "source": [
    "# 第15回演習「論理プログラミング」その1"
   ]
  },
  {
   "cell_type": "markdown",
   "metadata": {},
   "source": [
    "この演習では、ライブラリを用いた論理プログラミングの方法を習得します。<br />\n",
    "グレイの背景のプログラムは上から順に、1つずつ実行していきましょう。<br /><hr />"
   ]
  },
  {
   "cell_type": "markdown",
   "metadata": {},
   "source": [
    "## 1) 論理プログラミングのHello, World"
   ]
  },
  {
   "cell_type": "code",
   "execution_count": 2,
   "metadata": {},
   "outputs": [
    {
     "name": "stdout",
     "output_type": "stream",
     "text": [
      "(5,)\n"
     ]
    }
   ],
   "source": [
    "from kanren import * # 論理プログラミング用のライブラリを読込\n",
    "\n",
    "x=var()\n",
    "\n",
    "# xは5に等しい、というゴールのもとで、xは何?\n",
    "print(run(0, x, eq(x, 5)))\n",
    "# 0:全て返せ、X:変数"
   ]
  },
  {
   "cell_type": "markdown",
   "metadata": {},
   "source": [
    "## 2) 論理プログラミングのHello, World (その2)"
   ]
  },
  {
   "cell_type": "code",
   "execution_count": 3,
   "metadata": {},
   "outputs": [
    {
     "name": "stdout",
     "output_type": "stream",
     "text": [
      "(1, 2, 3)\n"
     ]
    }
   ],
   "source": [
    "# xは(1,2,3)の要素である\n",
    "print(run(0, x, membero(x, (1,2,3))))"
   ]
  },
  {
   "cell_type": "markdown",
   "metadata": {},
   "source": [
    "## 3) 論理プログラミングのHello, World (その3)"
   ]
  },
  {
   "cell_type": "code",
   "execution_count": null,
   "metadata": {},
   "outputs": [],
   "source": [
    "# xは(1,2,3)の要素であり、(2,3,4)の要素でもある\n",
    "print(run(0, x, lall(membero(x,(1,2,3)),\n",
    "                     membero(x,(2,3,4)))))\n",
    "\n",
    "# xは(1,2,3)の要素であるか、または(2,3,4)の要素である\n",
    "print(run(0, x, lany(membero(x,(1,2,3)),\n",
    "                     membero(x,(2,3,4)))))"
   ]
  },
  {
   "cell_type": "markdown",
   "metadata": {},
   "source": [
    "## 4) 論理クイズに挑戦\n",
    "4人の名前は、ケメ子、ジャ子、善次郎、お兄さんである。<br />\n",
    "4人はそれぞれ異なるペットを飼っていて、異なる車に乗っていて、<br />\n",
    "異なる場所に住んでいる。<br />\n",
    "<ul>\n",
    "    <li> ケメ子は青いパジェロに乗っている</li>\n",
    "    <li>猫を飼っている人は大阪に住んでいる</li>\n",
    "    <li> 善次郎は福岡に住んでいる</li>\n",
    "    <li>黒いセドリックに乗る人は埼玉に住んでいる</li>\n",
    "    <li>ジャ子は猫を飼っている</li>\n",
    "    <li>お兄さんは埼玉に住んでいる</li>\n",
    "    <li>未確認生物を飼っている人はアメリカに住んでいる</li>\n",
    "    <li><span style=\"color:red;\">イタチ</span>を飼っている人は誰だ?</li>\n",
    "    </ul>"
   ]
  },
  {
   "cell_type": "code",
   "execution_count": 5,
   "metadata": {},
   "outputs": [],
   "source": [
    "登場人物 = var()\n",
    "ルール = lall(\n",
    "    # 登場人物は4人\n",
    "    # 登場人物は4つの変数で成り立つ\n",
    "    # 変数の1番目は氏名、2番目はペット、3番目は乗っている車、4番目は住む国。\n",
    "    (eq, (var(), var(), var(), var()), 登場人物),\n",
    "    (membero, ('ケメ子', var(), '青いパジェロ', var()), 登場人物),\n",
    "    (membero, (var(), '猫', var(), '大阪'), 登場人物),\n",
    "    (membero, ('善次郎', var(), var(), '福岡'), 登場人物),\n",
    "    (membero, (var(), var(), '黒いセドリック', '埼玉'), 登場人物),\n",
    "    (membero, ('ジャ子', '猫', var(), var()), 登場人物),\n",
    "    (membero, ('お兄さん', var(), var(), '埼玉'), 登場人物),\n",
    "    (membero, (var(), '未確認生物', var(), 'アメリカ'), 登場人物),\n",
    "    (membero, (var(), 'イタチ', var(), var()), 登場人物)\n",
    "    )\n",
    "\n",
    "推論結果 = run(0, 登場人物, ルール)"
   ]
  },
  {
   "cell_type": "markdown",
   "metadata": {},
   "source": [
    "## 5) 論理クイズの結果を表示"
   ]
  },
  {
   "cell_type": "code",
   "execution_count": 7,
   "metadata": {},
   "outputs": [
    {
     "name": "stdout",
     "output_type": "stream",
     "text": [
      "氏名, ペット, 車, 居住地\n",
      "======================\n",
      "ケメ子, 未確認生物, 青いパジェロ, アメリカ\n",
      "ジャ子, 猫, ~_33, 大阪\n",
      "善次郎, イタチ, ~_35, 福岡\n",
      "お兄さん, ~_37, 黒いセドリック, 埼玉\n"
     ]
    }
   ],
   "source": [
    "print(\"氏名, ペット, 車, 居住地\")\n",
    "print(\"======================\")\n",
    "for 人物 in (推論結果[0]):\n",
    "    人物 = [str(項目) for 項目 in 人物] # 文字列に変えてあげないと次行のjoinでエラーになるので\n",
    "    print(\", \".join(人物)) # カンマ区切りで繋ぐ    "
   ]
  },
  {
   "cell_type": "markdown",
   "metadata": {},
   "source": [
    "↑ イタチを飼っているのは誰でしたか?<hr />"
   ]
  },
  {
   "cell_type": "markdown",
   "metadata": {},
   "source": [
    "## 任意課題1) \n",
    "上記の論理クイズで答えが出なかった\n",
    "<ul>\n",
    "    <li>ジャ子さんが乗る車</li>\n",
    "<li>善次郎さんが乗る車</li>    \n",
    "    <li>お兄さんが飼っているペット</li>\n",
    "    </ul>\n",
    "    の答えを出せるように、推論のルールを弄ってみましょう。"
   ]
  },
  {
   "cell_type": "code",
   "execution_count": null,
   "metadata": {},
   "outputs": [],
   "source": []
  },
  {
   "cell_type": "markdown",
   "metadata": {},
   "source": [
    "## 任意課題2) \n",
    "上記の論理クイズを論理プログラミング用のライブラリを使わずに<br />\n",
    "Pythonのプログラムで解いてみましょう。<br />どれくらい大変でしょうか?"
   ]
  },
  {
   "cell_type": "code",
   "execution_count": null,
   "metadata": {},
   "outputs": [],
   "source": []
  },
  {
   "cell_type": "markdown",
   "metadata": {},
   "source": [
    "## 任意課題3) \n",
    "上記の論理クイズの元になったオリジナルのゼブラ問題 (Zebra Puzzle) について調べ、<br />Pythonのプログラムで解いてみましょう。<br />\n",
    "論理プログラミング用のライブラリを使うかどうかは、皆さんのお好みで決めましょう。"
   ]
  },
  {
   "cell_type": "code",
   "execution_count": 8,
   "metadata": {},
   "outputs": [],
   "source": [
    "from kanren import *"
   ]
  },
  {
   "cell_type": "code",
   "execution_count": null,
   "metadata": {},
   "outputs": [],
   "source": [
    "登場人物 = var()\n",
    "ルール = lall(\n",
    "    # 登場人物は4人\n",
    "    # 登場人物は4つの変数で成り立つ\n",
    "    # 変数の1番目は氏名、2番目はペット、3番目は乗っている車、4番目は住む国。\n",
    "    (eq, (var(), var(), var(), var()), 登場人物),\n",
    "    (membero, ('ケメ子', var(), '青いパジェロ', var()), 登場人物),\n",
    "    (membero, (var(), '猫', var(), '大阪'), 登場人物),\n",
    "    (membero, ('善次郎', var(), var(), '福岡'), 登場人物),\n",
    "    (membero, (var(), var(), '黒いセドリック', '埼玉'), 登場人物),\n",
    "    (membero, ('ジャ子', '猫', var(), var()), 登場人物),\n",
    "    (membero, ('お兄さん', var(), var(), '埼玉'), 登場人物),\n",
    "    (membero, (var(), '未確認生物', var(), 'アメリカ'), 登場人物),\n",
    "    (membero, (var(), 'イタチ', var(), var()), 登場人物)\n",
    "    )\n",
    "\n",
    "推論結果 = run(0, 登場人物, ルール)\n",
    "\n",
    "家=var()\n",
    "ルール=lall(\n",
    "    # 家は5個でひとは5人？\n",
    "    # 何人か、家の色、飼っているもの、飲み物、タバコの種類\n",
    "    (eq, ()),\n",
    ")"
   ]
  }
 ],
 "metadata": {
  "kernelspec": {
   "display_name": "Python 3",
   "language": "python",
   "name": "python3"
  },
  "language_info": {
   "codemirror_mode": {
    "name": "ipython",
    "version": 3
   },
   "file_extension": ".py",
   "mimetype": "text/x-python",
   "name": "python",
   "nbconvert_exporter": "python",
   "pygments_lexer": "ipython3",
   "version": "3.5.4"
  }
 },
 "nbformat": 4,
 "nbformat_minor": 2
}
