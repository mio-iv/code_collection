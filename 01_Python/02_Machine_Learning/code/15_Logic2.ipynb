{
 "cells": [
  {
   "cell_type": "markdown",
   "metadata": {},
   "source": [
    "# 第15回演習「論理プログラミング」その2"
   ]
  },
  {
   "cell_type": "markdown",
   "metadata": {},
   "source": [
    "この演習では、ノードの親子関係を辿る論理プログラミングの方法を習得します。<br />\n",
    "グレイの背景のプログラムは上から順に、1つずつ実行していきましょう。<br /><br />\n",
    "<img src=\"http://pfe.p.cyber-u.ac.jp/img/Python/Week15/family.jpg\" style=\"width:600px\">\n",
    "<hr />"
   ]
  },
  {
   "cell_type": "markdown",
   "metadata": {},
   "source": [
    "## 6) JSONデータの読込\n",
    "\n",
    "外部ファイル myFamily.json で、JSON のデータは以下のようになっています。\n",
    "<pre>\n",
    "{\n",
    "      \"父\": \n",
    "      [\n",
    "        {\"波平\": \"サザエ\"},\n",
    "        {\"波平\": \"カツオ\"},\n",
    "        {\"波平\": \"ワカメ\"},\t\t\t\t\n",
    "        {\"マスオ\": \"タラオ\"},\n",
    "        {\"ノリスケ\": \"イクラ\"},\t\t\n",
    "        {\"波平の父\": \"波平\"},\n",
    "        {\"波平の父\": \"海平\"},\n",
    "        {\"波平の父\": \"なぎえ\"},\n",
    "        {\"ノリスケの父\": \"ノリスケ\"}\n",
    "      ],\n",
    "      \"母\": \n",
    "      [\n",
    "        {\"フネ\": \"サザエ\"},\n",
    "        {\"フネ\": \"カツオ\"},\t\t\n",
    "        {\"フネ\": \"ワカメ\"},\n",
    "        {\"サザエ\": \"タラオ\"},\n",
    "        {\"タイ子\": \"イクラ\"},\n",
    "        {\"波平の母\": \"波平\"},\n",
    "        {\"波平の母\": \"海平\"},\n",
    "        {\"波平の母\": \"なぎえ\"},\n",
    "        {\"なぎえ\": \"ノリスケ\"}\t\t\n",
    "      ]\n",
    "}\n",
    "</pre>"
   ]
  },
  {
   "cell_type": "code",
   "execution_count": 2,
   "metadata": {},
   "outputs": [
    {
     "name": "stdout",
     "output_type": "stream",
     "text": [
      "{'母': [{'フネ': 'サザエ'}, {'フネ': 'カツオ'}, {'フネ': 'ワカメ'}, {'サザエ': 'タラオ'}, {'タイ子': 'イクラ'}, {'波平の母': '波平'}, {'波平の母': '海平'}, {'波平の母': 'なぎえ'}, {'なぎえ': 'ノリスケ'}], '父': [{'波平': 'サザエ'}, {'波平': 'カツオ'}, {'波平': 'ワカメ'}, {'マスオ': 'タラオ'}, {'ノリスケ': 'イクラ'}, {'波平の父': '波平'}, {'波平の父': '海平'}, {'波平の父': 'なぎえ'}, {'ノリスケの父': 'ノリスケ'}]}\n"
     ]
    }
   ],
   "source": [
    "import json \n",
    "\n",
    "with open('myFamily.json',encoding='utf-8') as f: \n",
    "    JSONデータ = json.loads(f.read())\n",
    "\n",
    "# 全オブジェクトをテキストとして表示\n",
    "print(JSONデータ)"
   ]
  },
  {
   "cell_type": "code",
   "execution_count": null,
   "metadata": {},
   "outputs": [],
   "source": []
  },
  {
   "cell_type": "markdown",
   "metadata": {},
   "source": [
    "## 7) (JSONの読み方の練習) <br />誰かの父になっている人々、を表示してみる"
   ]
  },
  {
   "cell_type": "code",
   "execution_count": 3,
   "metadata": {},
   "outputs": [
    {
     "name": "stdout",
     "output_type": "stream",
     "text": [
      "['波平']\n",
      "['波平']\n",
      "['波平']\n",
      "['マスオ']\n",
      "['ノリスケ']\n",
      "['波平の父']\n",
      "['波平の父']\n",
      "['波平の父']\n",
      "['ノリスケの父']\n"
     ]
    }
   ],
   "source": [
    "for item in JSONデータ['父']:\n",
    "    print(list(item.keys()))    "
   ]
  },
  {
   "cell_type": "markdown",
   "metadata": {},
   "source": [
    "## 8) 〇〇は誰の父か?"
   ]
  },
  {
   "cell_type": "code",
   "execution_count": 4,
   "metadata": {},
   "outputs": [
    {
     "name": "stdout",
     "output_type": "stream",
     "text": [
      "タラオ\n"
     ]
    }
   ],
   "source": [
    "from kanren import * # 論理プログラミング用のライブラリを読込\n",
    "\n",
    "# 父である、という関係を定義\n",
    "父である = Relation()    \n",
    "\n",
    "for item in JSONデータ['父']:\n",
    "    facts(父である, (list(item.keys())[0], list(item.values())[0]))\n",
    "    # list(item.keys())[0], list(item.values())[0]\n",
    "    # この人は、list(item.keys())[0],　この人の父である、list(item.values())[0]\n",
    "\n",
    "# 〇〇は誰の父か?\n",
    "x = var()\n",
    "結果のすべて = run(0, x, (父である, 'マスオ', x))\n",
    "\n",
    "for 結果 in 結果のすべて:\n",
    "    print(結果)"
   ]
  },
  {
   "cell_type": "markdown",
   "metadata": {},
   "source": [
    "## 小出しの任意課題1)\n",
    "<span style=\"background-color:#FFFF99\">#8 のプログラムを参考にして「誰が〇〇の父か?」を出力させましょう。</span><hr />"
   ]
  },
  {
   "cell_type": "code",
   "execution_count": 5,
   "metadata": {},
   "outputs": [
    {
     "name": "stdout",
     "output_type": "stream",
     "text": [
      "マスオ\n"
     ]
    }
   ],
   "source": [
    "結果のすべて = run(0, x, (父である, x, 'タラオ'))\n",
    "for 結果 in 結果のすべて:\n",
    "    print(結果)\n",
    "# ここは自分で書きましょう\n",
    "# 「マスオ」と出たら正解です"
   ]
  },
  {
   "cell_type": "markdown",
   "metadata": {},
   "source": [
    "## 9) 誰が誰の父か?"
   ]
  },
  {
   "cell_type": "code",
   "execution_count": 6,
   "metadata": {},
   "outputs": [
    {
     "name": "stdout",
     "output_type": "stream",
     "text": [
      "('ノリスケの父', 'ノリスケ')\n",
      "('波平', 'サザエ')\n",
      "('波平の父', 'なぎえ')\n",
      "('ノリスケ', 'イクラ')\n",
      "('波平', 'カツオ')\n",
      "('波平', 'ワカメ')\n",
      "('波平の父', '波平')\n",
      "('波平の父', '海平')\n",
      "('マスオ', 'タラオ')\n"
     ]
    }
   ],
   "source": [
    "y = var()\n",
    "# 結果のすべて = run(0, (x,y), (父である, x, y))\n",
    "結果のすべて = run(0, (x,y), (父である, x, y))\n",
    "'''\n",
    "(父である, x, y)\n",
    "facts(父である, (list(item.keys())[0], list(item.values())[0]))\n",
    "ここからきている\n",
    "'''\n",
    "for 結果 in 結果のすべて:\n",
    "    print(結果)"
   ]
  },
  {
   "cell_type": "markdown",
   "metadata": {},
   "source": [
    "## 10) 誰が誰の母か?"
   ]
  },
  {
   "cell_type": "code",
   "execution_count": 7,
   "metadata": {},
   "outputs": [
    {
     "name": "stdout",
     "output_type": "stream",
     "text": [
      "('フネ', 'カツオ')\n",
      "('タイ子', 'イクラ')\n",
      "('フネ', 'サザエ')\n",
      "('なぎえ', 'ノリスケ')\n",
      "('サザエ', 'タラオ')\n",
      "('フネ', 'ワカメ')\n",
      "('波平の母', '波平')\n",
      "('波平の母', 'なぎえ')\n",
      "('波平の母', '海平')\n"
     ]
    }
   ],
   "source": [
    "# 母である、という関係を定義\n",
    "母である = Relation()\n",
    "\n",
    "for item in JSONデータ['母']:\n",
    "    facts(母である, (list(item.keys())[0], list(item.values())[0]))\n",
    "\n",
    "# 誰が誰の母か?\n",
    "結果のすべて = run(0, (x,y), (母である, x, y))\n",
    "for 結果 in 結果のすべて:\n",
    "    print(結果)"
   ]
  },
  {
   "cell_type": "markdown",
   "metadata": {},
   "source": [
    "## 11) 誰が〇〇の親か?"
   ]
  },
  {
   "cell_type": "code",
   "execution_count": 8,
   "metadata": {},
   "outputs": [
    {
     "name": "stdout",
     "output_type": "stream",
     "text": [
      "波平\n",
      "フネ\n"
     ]
    }
   ],
   "source": [
    "# 親である\n",
    "def 親である(x, y): # 父でも、母でも、よい\n",
    "    # リストが引数でOR条件になる\n",
    "    return conde([父である(x, y)], [母である(x, y)])    \n",
    "\n",
    "# 誰が〇〇の親か?\n",
    "結果のすべて = run(0, x, (親である, x, 'サザエ'))\n",
    "for 結果 in 結果のすべて:\n",
    "    print(結果)"
   ]
  },
  {
   "cell_type": "markdown",
   "metadata": {},
   "source": [
    "## 小出しの任意課題2) \n",
    "<span style=\"background-color:#FFFF99\">「誰が誰の親か?」を出力させましょう。</span><hr />"
   ]
  },
  {
   "cell_type": "code",
   "execution_count": 9,
   "metadata": {},
   "outputs": [
    {
     "name": "stdout",
     "output_type": "stream",
     "text": [
      "('ノリスケの父', 'ノリスケ')\n",
      "('フネ', 'カツオ')\n",
      "('波平', 'サザエ')\n",
      "('タイ子', 'イクラ')\n",
      "('波平の父', 'なぎえ')\n",
      "('フネ', 'サザエ')\n",
      "('ノリスケ', 'イクラ')\n",
      "('なぎえ', 'ノリスケ')\n",
      "('波平', 'カツオ')\n",
      "('サザエ', 'タラオ')\n",
      "('波平', 'ワカメ')\n",
      "('フネ', 'ワカメ')\n",
      "('波平の父', '波平')\n",
      "('波平の母', '波平')\n",
      "('波平の父', '海平')\n",
      "('波平の母', 'なぎえ')\n",
      "('マスオ', 'タラオ')\n",
      "('波平の母', '海平')\n"
     ]
    }
   ],
   "source": [
    "結果のすべて = run(0, (x,y), (親である, x, y))\n",
    "for 結果 in 結果のすべて:\n",
    "    print(結果)\n",
    "# ここは自分で書きましょう\n",
    "# 親子関係が18行出たら、正解です"
   ]
  },
  {
   "cell_type": "markdown",
   "metadata": {},
   "source": [
    "## 12) 〇〇の祖父母は誰か?"
   ]
  },
  {
   "cell_type": "code",
   "execution_count": 10,
   "metadata": {},
   "outputs": [
    {
     "name": "stdout",
     "output_type": "stream",
     "text": [
      "波平\n",
      "フネ\n"
     ]
    }
   ],
   "source": [
    "# 祖父母である    \n",
    "def 祖父母である(x, y):\n",
    "    temp = var()\n",
    "    # condeの引数がタプルの場合はAND条件になる\n",
    "    return conde((親である(x, temp), 親である(temp, y)))\n",
    "\n",
    "# 〇〇の祖父母は誰か?\n",
    "結果のすべて = run(0, x, (祖父母である, x, 'タラオ'))\n",
    "for 結果 in 結果のすべて:\n",
    "    print(結果)"
   ]
  },
  {
   "cell_type": "markdown",
   "metadata": {},
   "source": [
    "## 13)  〇〇は誰の祖父母か?\n",
    "言い換えると「〇〇の孫は誰か?」になります。"
   ]
  },
  {
   "cell_type": "code",
   "execution_count": 11,
   "metadata": {},
   "outputs": [
    {
     "name": "stdout",
     "output_type": "stream",
     "text": [
      "サザエ\n",
      "ノリスケ\n",
      "カツオ\n",
      "ワカメ\n"
     ]
    }
   ],
   "source": [
    "# ?〇〇は誰の祖父母か?\n",
    "結果のすべて = run(0, x, (祖父母である,'波平の母',x))\n",
    "for 結果 in 結果のすべて:\n",
    "    print(結果)"
   ]
  },
  {
   "cell_type": "markdown",
   "metadata": {},
   "source": [
    "## 14) 〇〇は誰の兄弟姉妹か? \n",
    "※ 〇〇自身が答えに含まれることに注意しましょう"
   ]
  },
  {
   "cell_type": "code",
   "execution_count": 12,
   "metadata": {},
   "outputs": [
    {
     "name": "stdout",
     "output_type": "stream",
     "text": [
      "サザエ\n",
      "カツオ\n",
      "ワカメ\n"
     ]
    }
   ],
   "source": [
    "# 兄弟姉妹である\n",
    "def 兄弟姉妹である(x, y):\n",
    "    temp = var()\n",
    "    return conde((親である(temp, x), 親である(temp, y)))\n",
    "\n",
    "# 〇〇は誰の兄弟姉妹か? (〇〇自身が答えに含まれることに注意)\n",
    "結果のすべて = run(0, x, (兄弟姉妹である,'ワカメ',x))\n",
    "for 結果 in 結果のすべて:\n",
    "    print(結果)"
   ]
  },
  {
   "cell_type": "markdown",
   "metadata": {},
   "source": [
    "## 15) 〇〇の叔父叔母は誰か? \n",
    "※ 〇〇の親も含まれることに注意"
   ]
  },
  {
   "cell_type": "code",
   "execution_count": 13,
   "metadata": {},
   "outputs": [
    {
     "name": "stdout",
     "output_type": "stream",
     "text": [
      "なぎえ\n",
      "波平\n",
      "海平\n"
     ]
    }
   ],
   "source": [
    "# 叔父叔母である\n",
    "def 叔父叔母である(x, y):\n",
    "    temp = var()\n",
    "    return conde((親である(temp, x), 祖父母である(temp, y)))\n",
    "\n",
    "# 〇〇の叔父叔母は誰か? (〇〇の父や母も含まれることに注意)\n",
    "結果のすべて = run(0, x, (叔父叔母である,x,'カツオ'))\n",
    "for 結果 in 結果のすべて:\n",
    "    print(結果)"
   ]
  },
  {
   "cell_type": "markdown",
   "metadata": {},
   "source": [
    "## 16) 〇〇の兄弟姉妹は?  ただし〇〇自身は除く"
   ]
  },
  {
   "cell_type": "code",
   "execution_count": 14,
   "metadata": {},
   "outputs": [
    {
     "name": "stdout",
     "output_type": "stream",
     "text": [
      "カツオ\n",
      "サザエ\n"
     ]
    }
   ],
   "source": [
    "# 〇〇の兄弟姉妹は?  〇〇自身は除く\n",
    "本人の名 = 'ワカメ'\n",
    "兄弟姉妹のすべて = run(0, x, 兄弟姉妹である(x, 本人の名))\n",
    "\n",
    "出力結果のすべて=[] # 本人以外の人を入れていく配列\n",
    "\n",
    "for xx in 兄弟姉妹のすべて:\n",
    "    if xx != 本人の名: # 本人でないなら\n",
    "        出力結果のすべて.append(xx)\n",
    "\n",
    "for 結果 in 出力結果のすべて:\n",
    "    print(結果)"
   ]
  },
  {
   "cell_type": "markdown",
   "metadata": {},
   "source": [
    "## 17) 〇〇の叔父叔母は誰か? ただし〇〇の親は除く"
   ]
  },
  {
   "cell_type": "code",
   "execution_count": 15,
   "metadata": {},
   "outputs": [
    {
     "name": "stdout",
     "output_type": "stream",
     "text": [
      "カツオ\n",
      "ワカメ\n"
     ]
    }
   ],
   "source": [
    "# 〇〇の叔父叔母は誰か? 〇〇の親は除く\n",
    "本人の名 = 'タラオ'\n",
    "親の名のすべて = run(0, x, 親である(x, 本人の名))\n",
    "叔父叔母候補のすべて = run(0, x, 叔父叔母である(x, 本人の名))\n",
    "\n",
    "# 親に含まれなければ出力結果にappend\n",
    "出力結果のすべて=[]\n",
    "\n",
    "for xx in 叔父叔母候補のすべて:\n",
    "    if xx not in 親の名のすべて:\n",
    "        出力結果のすべて.append(xx)\n",
    "\n",
    "for 結果 in 出力結果のすべて:\n",
    "    print(結果)"
   ]
  },
  {
   "cell_type": "markdown",
   "metadata": {},
   "source": [
    "## 小出しの任意課題3) \n",
    "<span style=\"background-color:#FFFF99\">\n",
    "ジャ子さんが「兄弟姉妹ではいくら何でも大雑把すぎる、<br />せめて『兄弟』と『姉妹』は区別したい」と言い出しました。<br />どのようにデータやプログラムを作ったらよいかを考え、実現させましょう。</span><hr />"
   ]
  },
  {
   "cell_type": "code",
   "execution_count": null,
   "metadata": {},
   "outputs": [],
   "source": []
  },
  {
   "cell_type": "markdown",
   "metadata": {},
   "source": [
    "## 小出しの任意課題4)\n",
    "<span style=\"background-color:#FFFF99\">\n",
    "「x は y のいとこである」という関数を定義し、それを使ったプログラムを作成しましょう。</span><hr />"
   ]
  },
  {
   "cell_type": "code",
   "execution_count": null,
   "metadata": {},
   "outputs": [],
   "source": []
  },
  {
   "cell_type": "markdown",
   "metadata": {},
   "source": [
    "「AIプログラミング」すべての演習はこれで終了です。お疲れさまでした。"
   ]
  }
 ],
 "metadata": {
  "kernelspec": {
   "display_name": "Python 3 (ipykernel)",
   "language": "python",
   "name": "python3"
  },
  "language_info": {
   "codemirror_mode": {
    "name": "ipython",
    "version": 3
   },
   "file_extension": ".py",
   "mimetype": "text/x-python",
   "name": "python",
   "nbconvert_exporter": "python",
   "pygments_lexer": "ipython3",
   "version": "3.10.6"
  }
 },
 "nbformat": 4,
 "nbformat_minor": 2
}
