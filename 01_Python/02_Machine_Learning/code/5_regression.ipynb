{
 "cells": [
  {
   "cell_type": "markdown",
   "metadata": {},
   "source": [
    "# 第5回演習「線形回帰」"
   ]
  },
  {
   "cell_type": "markdown",
   "metadata": {},
   "source": [
    "この演習では勾配法を用いた線形回帰の方法を習得します。<hr />"
   ]
  },
  {
   "cell_type": "markdown",
   "metadata": {},
   "source": [
    "<img src=\"https://pfe.p.cyber-u.ac.jp/img/Python/Week5/regression.png\" style=\"width:400px\">"
   ]
  },
  {
   "cell_type": "markdown",
   "metadata": {
    "scrolled": true
   },
   "source": [
    "UMAの年齢から身長を推測するための回帰式を求めましょう。<br />\n",
    "下のプログラムは、実行すると数秒程度待たされます。キーの連打などはせずに、静かに待ちましょう。\n"
   ]
  },
  {
   "cell_type": "code",
   "execution_count": 2,
   "metadata": {
    "scrolled": true
   },
   "outputs": [
    {
     "name": "stdout",
     "output_type": "stream",
     "text": [
      "41088 回繰り返しました\n",
      "勾配法で得られた、損失関数を最小にするaとbは\n",
      "8.477403460299513\n",
      "145.09863070323775\n",
      "最終的な平均二乗誤差\n",
      "344.72719664673\n"
     ]
    },
    {
     "data": {
      "image/png": "[encoded data removed]",
      "text/plain": [
       "<Figure size 576x432 with 1 Axes>"
      ]
     },
     "metadata": {
      "needs_background": "light"
     },
     "output_type": "display_data"
    }
   ],
   "source": [
    "from matplotlib import pyplot as plt\n",
    "import numpy as np\n",
    "\n",
    "# UMAの年齢と身長\n",
    "年齢 = np.array([6,8,9,7,9,10,10,12,13,15,16,14,13,16,19,18,22,21,25,23])\n",
    "身長 = np.array([164.61,187.25,204.30,204.88,229.48,231.99,236.59,240.36,263.98,264.79,281.85,288.38,298.75,306.34,307.48,312.44,317.72,319.41,323.96,341.96])\n",
    "\n",
    "# 最小化したい損失関数は、平均二乗誤差として定義\n",
    "def 損失関数(パラメタベクトル): # パラメタベクトル[0]がy=ax+bにおけるa、パラメタベクトル[1]がb\n",
    "    パラメタa = パラメタベクトル[0]\n",
    "    パラメタb = パラメタベクトル[1]    \n",
    "    # 誤差を二乗し、meanでその平均を求めて返す\n",
    "    # 年齢や身長が配列であることに注意\n",
    "    return np.mean((パラメタa * 年齢 + パラメタb - 身長)**2) \n",
    "\n",
    "def 偏微分もどき(関数, 現在地のベクトル): # 全ての変数について偏微分した結果を傾きベクトルにする    \n",
    "    傾きベクトル = np.empty_like(現在地のベクトル) # 空の傾きベクトルを生成\n",
    "    for i in range(len(現在地のベクトル)):\n",
    "        # 変数のi番目で「偏微分もどきの下請け」に出す\n",
    "        傾きベクトル[i] = 偏微分もどきの下請け(関数, 現在地のベクトル, i)\n",
    "    \n",
    "    return 傾きベクトル # 確定した傾きベクトルを返す\n",
    "\n",
    "def 偏微分もどきの下請け(関数, 現在地のベクトル, i):\n",
    "    微小な横幅 = 0.0001    \n",
    "    差分計算ベクトル = np.zeros_like(現在地のベクトル) # まずゼロ埋めする\n",
    "    差分計算ベクトル[i] = 微小な横幅     # 差分計算の対象となるi番目にのみ、微小な横幅を入れる\n",
    "    # 微小な横幅を使って引き算と割り算を行い、傾きを求めて返す\n",
    "    return (関数(現在地のベクトル+差分計算ベクトル) - 関数(現在地のベクトル-差分計算ベクトル)) / (2*微小な横幅)\n",
    "\n",
    "def 勾配法(関数, 出発地点のベクトル, 学習率=0.001, 最大繰り返し数=100000):\n",
    "    現在地のベクトル = 出発地点のベクトル\n",
    "    収束条件の傾き = 0.001\n",
    "    \n",
    "    for i in range(最大繰り返し数): # 収束するまで繰り返し\n",
    "        # 現在地での傾き(ベクトル)を求める\n",
    "        傾きベクトル = 偏微分もどき(関数, 現在地のベクトル) \n",
    "        # 勾配を元にして現在地を変更\n",
    "        現在地のベクトル = 現在地のベクトル - 学習率 * 傾きベクトル\n",
    "        # 収束条件の傾きをどちらも下回ったらループ終了、ただしiが0の時は傾きベクトルが[0,0]なので終了しない\n",
    "        if abs(傾きベクトル[0]) < 収束条件の傾き and abs(傾きベクトル[1]) < 収束条件の傾き and i > 0:        \n",
    "            break\n",
    "\n",
    "    # 最終的な位置を返す\n",
    "    print(str(i)+\" 回繰り返しました\")    \n",
    "    return 現在地のベクトル\n",
    "\n",
    "# 勾配法で関数の最小値を探す (初期値は 5,5)\n",
    "最小値 = 勾配法(損失関数, [5, 5])\n",
    "print(\"勾配法で得られた、損失関数を最小にするaとbは\")\n",
    "print(最小値[0])\n",
    "print(最小値[1])\n",
    "print(\"最終的な平均二乗誤差\")\n",
    "print(損失関数(最小値))\n",
    "\n",
    "########################## 仕上げに散布図を描き、回帰直線も表示\n",
    "plt.figure(figsize = (8, 6))\n",
    "plt.title(\"Age and Height\")\n",
    "plt.xlim([0, 30])\n",
    "plt.ylim([0, 350])\n",
    "plt.xlabel(\"age\")\n",
    "plt.ylabel(\"height (cm)\")\n",
    "plt.scatter(年齢,身長,color=\"k\") # 散布図\n",
    "# 直線を重ねる\n",
    "############ この下の3行のコメントを外しましょう ############\n",
    "x2 = np.linspace(0,30,10) # X軸方向の等間隔の配列\n",
    "y2 = 最小値[0]*x2+最小値[1] # Y軸方向の値も配列にする(ax+b の値)\n",
    "plt.plot(x2,y2,color=\"r\")\n",
    "plt.show()"
   ]
  },
  {
   "cell_type": "markdown",
   "metadata": {},
   "source": [
    "## 任意課題\n",
    "\n",
    "出力された散布図に、回帰直線を重ねて表示しましょう。<br />\n",
    "上のプログラム中の「この下の3行のコメントを外しましょう」を探してください。"
   ]
  },
  {
   "cell_type": "markdown",
   "metadata": {},
   "source": [
    "ここまでで、第5回第4章は終了です。お疲れさまでした。\n"
   ]
  }
 ],
 "metadata": {
  "kernelspec": {
   "display_name": "Python 3",
   "language": "python",
   "name": "python3"
  },
  "language_info": {
   "codemirror_mode": {
    "name": "ipython",
    "version": 3
   },
   "file_extension": ".py",
   "mimetype": "text/x-python",
   "name": "python",
   "nbconvert_exporter": "python",
   "pygments_lexer": "ipython3",
   "version": "3.5.4"
  }
 },
 "nbformat": 4,
 "nbformat_minor": 2
}
