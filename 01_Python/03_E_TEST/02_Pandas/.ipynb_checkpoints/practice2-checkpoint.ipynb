{
 "cells": [
  {
   "cell_type": "code",
   "execution_count": 1,
   "id": "f55cb48c",
   "metadata": {},
   "outputs": [],
   "source": [
    "import pandas as pd\n",
    "import numpy as np"
   ]
  },
  {
   "cell_type": "code",
   "execution_count": 2,
   "id": "632819d0",
   "metadata": {},
   "outputs": [],
   "source": [
    "df = pd.DataFrame({\n",
    "    'age': [10,np.nan,15,18],\n",
    "    'hight': [130,140,160,175],\n",
    "    'gender': [\"M\", \"M\", \"F\", \"F\"],\n",
    "    'city': [\"tpkyo\", np.nan, \"osaka\", \"nagoya\"]\n",
    "})"
   ]
  },
  {
   "cell_type": "code",
   "execution_count": 3,
   "id": "bf19f06c",
   "metadata": {},
   "outputs": [
    {
     "name": "stdout",
     "output_type": "stream",
     "text": [
      "    age  hight gender    city\n",
      "0  10.0    130      M   tpkyo\n",
      "1   NaN    140      M     NaN\n",
      "2  15.0    160      F   osaka\n",
      "3  18.0    175      F  nagoya\n",
      "age       1\n",
      "hight     0\n",
      "gender    0\n",
      "city      1\n",
      "dtype: int64\n"
     ]
    }
   ],
   "source": [
    "print(df)\n",
    "print(df.isnull().sum())"
   ]
  },
  {
   "cell_type": "code",
   "execution_count": 4,
   "id": "4019d180",
   "metadata": {},
   "outputs": [
    {
     "name": "stdout",
     "output_type": "stream",
     "text": [
      "    age  hight gender    city\n",
      "0  10.0    130      M   tpkyo\n",
      "2  15.0    160      F   osaka\n",
      "3  18.0    175      F  nagoya\n"
     ]
    }
   ],
   "source": [
    "df_temp1 = df.dropna()\n",
    "print(df_temp1)"
   ]
  },
  {
   "cell_type": "code",
   "execution_count": 5,
   "id": "171c047b",
   "metadata": {},
   "outputs": [
    {
     "name": "stdout",
     "output_type": "stream",
     "text": [
      "         age  hight gender       city\n",
      "0  10.000000    130      M      tpkyo\n",
      "1  14.333333    140      M  14.333333\n",
      "2  15.000000    160      F      osaka\n",
      "3  18.000000    175      F     nagoya\n"
     ]
    }
   ],
   "source": [
    "df_temp2 = df.fillna(df['age'].mean())\n",
    "print(df_temp2)"
   ]
  },
  {
   "cell_type": "code",
   "execution_count": null,
   "id": "d791a629",
   "metadata": {},
   "outputs": [],
   "source": []
  }
 ],
 "metadata": {
  "kernelspec": {
   "display_name": "Python 3 (ipykernel)",
   "language": "python",
   "name": "python3"
  },
  "language_info": {
   "codemirror_mode": {
    "name": "ipython",
    "version": 3
   },
   "file_extension": ".py",
   "mimetype": "text/x-python",
   "name": "python",
   "nbconvert_exporter": "python",
   "pygments_lexer": "ipython3",
   "version": "3.10.6"
  }
 },
 "nbformat": 4,
 "nbformat_minor": 5
}
