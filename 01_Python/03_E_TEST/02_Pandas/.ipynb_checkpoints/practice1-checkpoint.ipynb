{
 "cells": [
  {
   "cell_type": "code",
   "execution_count": 1,
   "id": "3435875d",
   "metadata": {},
   "outputs": [],
   "source": [
    "import pandas as pd\n",
    "import numpy as np"
   ]
  },
  {
   "cell_type": "code",
   "execution_count": 2,
   "id": "c6e9cbf3",
   "metadata": {},
   "outputs": [],
   "source": [
    "df = pd.DataFrame({\n",
    "    'age': [10,12,15,18],\n",
    "    'hight': [130,140,160,175],\n",
    "    'gender': [\"M\", \"M\", \"F\", \"F\"],\n",
    "    'city': [\"tpkyo\", \"koube\", \"osaka\", \"nagoya\"]\n",
    "})"
   ]
  },
  {
   "cell_type": "code",
   "execution_count": 3,
   "id": "0a6b0ff2",
   "metadata": {},
   "outputs": [
    {
     "name": "stdout",
     "output_type": "stream",
     "text": [
      "<class 'pandas.core.frame.DataFrame'>\n",
      "RangeIndex: 4 entries, 0 to 3\n",
      "Data columns (total 4 columns):\n",
      " #   Column  Non-Null Count  Dtype \n",
      "---  ------  --------------  ----- \n",
      " 0   age     4 non-null      int64 \n",
      " 1   hight   4 non-null      int64 \n",
      " 2   gender  4 non-null      object\n",
      " 3   city    4 non-null      object\n",
      "dtypes: int64(2), object(2)\n",
      "memory usage: 256.0+ bytes\n",
      "None\n",
      "   age  hight gender   city\n",
      "0   10    130      M  tpkyo\n",
      "1   12    140      M  koube\n",
      "RangeIndex(start=0, stop=4, step=1)\n",
      "Index(['age', 'hight', 'gender', 'city'], dtype='object')\n"
     ]
    }
   ],
   "source": [
    "print(df.info())\n",
    "print(df.head(2))\n",
    "print(df.index)\n",
    "print(df.columns)"
   ]
  },
  {
   "cell_type": "code",
   "execution_count": 4,
   "id": "8184b7c7",
   "metadata": {},
   "outputs": [
    {
     "name": "stdout",
     "output_type": "stream",
     "text": [
      "       age  hight sex    city\n",
      "hana    10    130   M   tpkyo\n",
      "yuki    12    140   M   koube\n",
      "kengo   15    160   F   osaka\n",
      "ziro    18    175   F  nagoya\n"
     ]
    }
   ],
   "source": [
    "df.index = [\"hana\", \"yuki\", \"kengo\", \"taro\"]\n",
    "df = df.rename(\n",
    "    columns={\"gender\":\"sex\"},\n",
    "    index={\"taro\":\"ziro\"}\n",
    "    )\n",
    "df['city'] = [\"tpkyo\", \"koube\", \"osaka\", \"nagoya\"]\n",
    "print(df)"
   ]
  },
  {
   "cell_type": "code",
   "execution_count": 5,
   "id": "d771608c",
   "metadata": {},
   "outputs": [
    {
     "name": "stdout",
     "output_type": "stream",
     "text": [
      "       age  hight    city\n",
      "hana    10    130   tpkyo\n",
      "yuki    12    140   koube\n",
      "kengo   15    160   osaka\n",
      "ziro    18    175  nagoya\n"
     ]
    }
   ],
   "source": [
    "df = df.drop(columns=\"sex\")\n",
    "print(df)\n",
    "df['gender'] = [\"M\", \"M\", \"F\", \"F\"]"
   ]
  },
  {
   "cell_type": "code",
   "execution_count": 6,
   "id": "4b3ae839",
   "metadata": {},
   "outputs": [
    {
     "name": "stdout",
     "output_type": "stream",
     "text": [
      "140\n",
      "       age gender\n",
      "hana    10      M\n",
      "yuki    12      M\n",
      "kengo   15      F\n",
      "ziro    18      F\n",
      "      age  hight    city gender\n",
      "ziro   18    175  nagoya      F\n",
      "       age  hight    city gender\n",
      "kengo   15    160   osaka      F\n",
      "ziro    18    175  nagoya      F\n"
     ]
    }
   ],
   "source": [
    "print(df.loc['yuki','hight'])\n",
    "print(df.loc[:, ['age', 'gender']])\n",
    "print(df[df['age']>15])\n",
    "print(df.loc[df['hight']>150])"
   ]
  },
  {
   "cell_type": "code",
   "execution_count": 7,
   "id": "7ba62fba",
   "metadata": {},
   "outputs": [],
   "source": [
    "df = df.sort_values('age', ascending=False)"
   ]
  },
  {
   "cell_type": "code",
   "execution_count": 8,
   "id": "588afff3",
   "metadata": {},
   "outputs": [
    {
     "name": "stdout",
     "output_type": "stream",
     "text": [
      "       age  hight    city gender\n",
      "ziro    18    175  nagoya      F\n",
      "kengo   15    160   osaka      F\n",
      "yuki    12    140   koube      M\n",
      "hana    10    130   tpkyo      M\n",
      "F    2\n",
      "M    2\n",
      "Name: gender, dtype: int64\n",
      "        age  hight   city\n",
      "gender                   \n",
      "F        18    175  osaka\n",
      "M        12    140  tpkyo\n",
      "151.25\n",
      "175\n",
      "130\n"
     ]
    }
   ],
   "source": [
    "print(df)\n",
    "print(df['gender'].value_counts())\n",
    "print(df.groupby('gender').max())\n",
    "\n",
    "print(df.loc[:,'hight'].mean())\n",
    "print(df.loc[:,'hight'].max())\n",
    "print(df.loc[:,'hight'].min())"
   ]
  },
  {
   "cell_type": "code",
   "execution_count": 9,
   "id": "458faa16",
   "metadata": {},
   "outputs": [
    {
     "name": "stdout",
     "output_type": "stream",
     "text": [
      "       age  hight    city gender\n",
      "ziro    18    185  nagoya      F\n",
      "kengo   15    170   osaka      F\n",
      "yuki    12    150   koube      M\n",
      "hana    10    140   tpkyo      M\n"
     ]
    }
   ],
   "source": [
    "df['hight'] += 10\n",
    "print(df)"
   ]
  },
  {
   "cell_type": "code",
   "execution_count": null,
   "id": "0acf0850",
   "metadata": {},
   "outputs": [],
   "source": []
  }
 ],
 "metadata": {
  "kernelspec": {
   "display_name": "Python 3 (ipykernel)",
   "language": "python",
   "name": "python3"
  },
  "language_info": {
   "codemirror_mode": {
    "name": "ipython",
    "version": 3
   },
   "file_extension": ".py",
   "mimetype": "text/x-python",
   "name": "python",
   "nbconvert_exporter": "python",
   "pygments_lexer": "ipython3",
   "version": "3.10.6"
  }
 },
 "nbformat": 4,
 "nbformat_minor": 5
}
