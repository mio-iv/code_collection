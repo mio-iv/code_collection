{
 "cells": [
  {
   "cell_type": "code",
   "execution_count": 1,
   "id": "77b810cd",
   "metadata": {},
   "outputs": [
    {
     "data": {
      "text/plain": [
       "True"
      ]
     },
     "execution_count": 1,
     "metadata": {},
     "output_type": "execute_result"
    }
   ],
   "source": [
    "import pandas as pd\n",
    "import os\n",
    "from dotenv import load_dotenv\n",
    "load_dotenv()"
   ]
  },
  {
   "cell_type": "code",
   "execution_count": 2,
   "id": "7bf38f59",
   "metadata": {},
   "outputs": [
    {
     "name": "stdout",
     "output_type": "stream",
     "text": [
      "データサイズ： 5000\n",
      "columns Index(['customer_id', 'customer_name', 'registration_date',\n",
      "       'customer_name_kana', 'email', 'gender', 'age', 'birth', 'pref'],\n",
      "      dtype='object')\n",
      "index RangeIndex(start=0, stop=5000, step=1)\n",
      "============================================================\n",
      "     customer_id customer_name    registration_date customer_name_kana  \\\n",
      "0       IK152942        平田 裕次郎  2019-01-01 00:25:33          ひらた ゆうじろう   \n",
      "1       TS808488         田村 詩織  2019-01-01 01:13:45            たむら しおり   \n",
      "2       AS834628         久野 由樹  2019-01-01 02:00:14             ひさの ゆき   \n",
      "3       AS345469          鶴岡 薫  2019-01-01 04:48:22           つるおか かおる   \n",
      "4       GD892565         大内 高史  2019-01-01 04:54:51           おおうち たかし   \n",
      "...          ...           ...                  ...                ...   \n",
      "4995    AS677229         平山 莉沙  2019-07-31 16:52:26            ひらやま りさ   \n",
      "4996    HD758694        中原 まひる  2019-07-31 19:09:26           なかはら まひる   \n",
      "4997    PL538517         田端 由宇  2019-07-31 19:30:05             たばた ゆう   \n",
      "4998    OA955088         瀬戸内 光  2019-07-31 22:32:08           せとうち ひかる   \n",
      "4999    HI349563         堀井 寛治  2019-07-31 22:49:49            ほりい かんじ   \n",
      "\n",
      "                            email gender  age       birth pref  \n",
      "0     hirata_yuujirou@example.com      M   29   1990/6/10  石川県  \n",
      "1       tamura_shiori@example.com      F   33   1986/5/20  東京都  \n",
      "2         hisano_yuki@example.com      F   63    1956/1/2  茨城県  \n",
      "3      tsuruoka_kaoru@example.com      M   74   1945/3/25  東京都  \n",
      "4      oouchi_takashi@example.com      M   54    1965/8/5  千葉県  \n",
      "...                           ...    ...  ...         ...  ...  \n",
      "4995    hirayama_risa@example.com      F   77  1941/10/17  愛知県  \n",
      "4996  nakahara_mahiru@example.com      F   27  1991/11/13  茨城県  \n",
      "4997      tabata_yuu1@example.com      F   73  1945/12/28  愛知県  \n",
      "4998  setouchi_hikaru@example.com      F   75    1944/4/9  宮城県  \n",
      "4999      horii_kanji@example.com      M   21    1998/2/6  広島県  \n",
      "\n",
      "[5000 rows x 9 columns]\n"
     ]
    }
   ],
   "source": [
    "customer_master01 = os.environ[\"customer_master01\"]\n",
    "df = pd.read_csv(customer_master01, header=0)\n",
    "print('データサイズ：', len(df))\n",
    "print('columns', df.columns)\n",
    "print('index', df.index)\n",
    "print('='*60)\n",
    "print(df)"
   ]
  },
  {
   "cell_type": "code",
   "execution_count": 4,
   "id": "03c3a6ff",
   "metadata": {},
   "outputs": [
    {
     "name": "stdout",
     "output_type": "stream",
     "text": [
      "データサイズ： 5000\n",
      "============================================================\n",
      "     transaction_id   price         payment_date customer_id\n",
      "0       T0000000113  210000  2019-02-01 01:36:57    PL563502\n",
      "1       T0000000114   50000  2019-02-01 01:37:23    HD678019\n",
      "2       T0000000115  120000  2019-02-01 02:34:19    HD298120\n",
      "3       T0000000116  210000  2019-02-01 02:47:23    IK452215\n",
      "4       T0000000117  170000  2019-02-01 04:33:46    PL542865\n",
      "...             ...     ...                  ...         ...\n",
      "4995    T0000005108  210000  2019-06-15 02:42:41    HD315748\n",
      "4996    T0000005109  150000  2019-06-15 03:36:16    HI215420\n",
      "4997    T0000005110   50000  2019-06-15 03:44:06    IK880102\n",
      "4998    T0000005111  210000  2019-06-15 04:14:06    IK074758\n",
      "4999    T0000005112   50000  2019-06-15 04:42:38    HD444151\n",
      "\n",
      "[5000 rows x 4 columns]\n",
      "データサイズ： 1786\n",
      "============================================================\n",
      "     transaction_id   price         payment_date customer_id\n",
      "0       T0000005113  295000  2019-06-15 07:20:27    TS169261\n",
      "1       T0000005114   50000  2019-06-15 07:35:47    HI599892\n",
      "2       T0000005115   85000  2019-06-15 07:56:36    HI421757\n",
      "3       T0000005116   50000  2019-06-15 08:40:55    OA386378\n",
      "4       T0000005117  120000  2019-06-15 08:44:23    TS506913\n",
      "...             ...     ...                  ...         ...\n",
      "1781    T0000006894  180000  2019-07-31 21:20:44    HI400734\n",
      "1782    T0000006895   85000  2019-07-31 21:52:48    AS339451\n",
      "1783    T0000006896  100000  2019-07-31 23:35:25    OA027325\n",
      "1784    T0000006897   85000  2019-07-31 23:39:35    TS624738\n",
      "1785    T0000006898   85000  2019-07-31 23:41:38    AS834214\n",
      "\n",
      "[1786 rows x 4 columns]\n"
     ]
    }
   ],
   "source": [
    "f1 = os.environ[\"transaction_1\"]\n",
    "f2 = os.environ[\"transaction_2\"]\n",
    "transaction_1 = pd.read_csv(f1, header=0)\n",
    "transaction_2 = pd.read_csv(f2, header=0)\n",
    "\n",
    "print('データサイズ：', len(transaction_1))\n",
    "print('='*60)\n",
    "print(transaction_1)\n",
    "\n",
    "print('データサイズ：', len(transaction_2))\n",
    "print('='*60)\n",
    "print(transaction_2)"
   ]
  },
  {
   "cell_type": "code",
   "execution_count": null,
   "id": "73258265",
   "metadata": {},
   "outputs": [],
   "source": []
  }
 ],
 "metadata": {
  "kernelspec": {
   "display_name": "Python 3 (ipykernel)",
   "language": "python",
   "name": "python3"
  },
  "language_info": {
   "codemirror_mode": {
    "name": "ipython",
    "version": 3
   },
   "file_extension": ".py",
   "mimetype": "text/x-python",
   "name": "python",
   "nbconvert_exporter": "python",
   "pygments_lexer": "ipython3",
   "version": "3.10.6"
  },
  "vscode": {
   "interpreter": {
    "hash": "1bba138731bfa09fd7893f38f25dd86a4766a24ec5975a5633a47550475f9448"
   }
  }
 },
 "nbformat": 4,
 "nbformat_minor": 5
}
