{
 "cells": [
  {
   "cell_type": "code",
   "execution_count": 1,
   "id": "57a4f376",
   "metadata": {},
   "outputs": [
    {
     "data": {
      "text/plain": [
       "True"
      ]
     },
     "execution_count": 1,
     "metadata": {},
     "output_type": "execute_result"
    }
   ],
   "source": [
    "import pandas as pd\n",
    "import os\n",
    "import sys\n",
    "from dotenv import load_dotenv\n",
    "load_dotenv()"
   ]
  },
  {
   "cell_type": "code",
   "execution_count": 2,
   "id": "0395ac92",
   "metadata": {
    "scrolled": false
   },
   "outputs": [
    {
     "name": "stdout",
     "output_type": "stream",
     "text": [
      "データサイズ： 2999\n",
      "columns Index(['purchase_date', 'purchase_month', 'item_name', 'item_price', '顧客名',\n",
      "       'かな', '地域', 'メールアドレス', '登録日'],\n",
      "      dtype='object')\n",
      "index RangeIndex(start=0, stop=2999, step=1)\n",
      "============================================================\n"
     ]
    },
    {
     "data": {
      "text/html": [
       "<div>\n",
       "<style scoped>\n",
       "    .dataframe tbody tr th:only-of-type {\n",
       "        vertical-align: middle;\n",
       "    }\n",
       "\n",
       "    .dataframe tbody tr th {\n",
       "        vertical-align: top;\n",
       "    }\n",
       "\n",
       "    .dataframe thead th {\n",
       "        text-align: right;\n",
       "    }\n",
       "</style>\n",
       "<table border=\"1\" class=\"dataframe\">\n",
       "  <thead>\n",
       "    <tr style=\"text-align: right;\">\n",
       "      <th></th>\n",
       "      <th>purchase_date</th>\n",
       "      <th>purchase_month</th>\n",
       "      <th>item_name</th>\n",
       "      <th>item_price</th>\n",
       "      <th>顧客名</th>\n",
       "      <th>かな</th>\n",
       "      <th>地域</th>\n",
       "      <th>メールアドレス</th>\n",
       "      <th>登録日</th>\n",
       "    </tr>\n",
       "  </thead>\n",
       "  <tbody>\n",
       "    <tr>\n",
       "      <th>0</th>\n",
       "      <td>2019-06-13 18:02:34</td>\n",
       "      <td>201906</td>\n",
       "      <td>商品A</td>\n",
       "      <td>100.0</td>\n",
       "      <td>深井菜々美</td>\n",
       "      <td>ふかい ななみ</td>\n",
       "      <td>C市</td>\n",
       "      <td>fukai_nanami@example.com</td>\n",
       "      <td>2017-01-26 00:00:00</td>\n",
       "    </tr>\n",
       "    <tr>\n",
       "      <th>1</th>\n",
       "      <td>2019-07-13 13:05:29</td>\n",
       "      <td>201907</td>\n",
       "      <td>商品S</td>\n",
       "      <td>1900.0</td>\n",
       "      <td>浅田賢二</td>\n",
       "      <td>あさだ けんじ</td>\n",
       "      <td>C市</td>\n",
       "      <td>asada_kenji@example.com</td>\n",
       "      <td>2018-04-07 00:00:00</td>\n",
       "    </tr>\n",
       "    <tr>\n",
       "      <th>2</th>\n",
       "      <td>2019-05-11 19:42:07</td>\n",
       "      <td>201905</td>\n",
       "      <td>商品A</td>\n",
       "      <td>100.0</td>\n",
       "      <td>南部慶二</td>\n",
       "      <td>なんぶ けいじ</td>\n",
       "      <td>A市</td>\n",
       "      <td>nannbu_keiji@example.com</td>\n",
       "      <td>2018-06-19 00:00:00</td>\n",
       "    </tr>\n",
       "    <tr>\n",
       "      <th>3</th>\n",
       "      <td>2019-02-12 23:40:45</td>\n",
       "      <td>201902</td>\n",
       "      <td>商品Z</td>\n",
       "      <td>2600.0</td>\n",
       "      <td>麻生莉緒</td>\n",
       "      <td>あそう りお</td>\n",
       "      <td>D市</td>\n",
       "      <td>asou_rio@example.com</td>\n",
       "      <td>2018-07-22 00:00:00</td>\n",
       "    </tr>\n",
       "    <tr>\n",
       "      <th>4</th>\n",
       "      <td>2019-04-22 03:09:35</td>\n",
       "      <td>201904</td>\n",
       "      <td>商品A</td>\n",
       "      <td>100.0</td>\n",
       "      <td>平田鉄二</td>\n",
       "      <td>ひらた てつじ</td>\n",
       "      <td>D市</td>\n",
       "      <td>hirata_tetsuji@example.com</td>\n",
       "      <td>2017-06-07 00:00:00</td>\n",
       "    </tr>\n",
       "  </tbody>\n",
       "</table>\n",
       "</div>"
      ],
      "text/plain": [
       "         purchase_date  purchase_month item_name  item_price    顧客名       かな  \\\n",
       "0  2019-06-13 18:02:34          201906       商品A       100.0  深井菜々美  ふかい ななみ   \n",
       "1  2019-07-13 13:05:29          201907       商品S      1900.0   浅田賢二  あさだ けんじ   \n",
       "2  2019-05-11 19:42:07          201905       商品A       100.0   南部慶二  なんぶ けいじ   \n",
       "3  2019-02-12 23:40:45          201902       商品Z      2600.0   麻生莉緒   あそう りお   \n",
       "4  2019-04-22 03:09:35          201904       商品A       100.0   平田鉄二  ひらた てつじ   \n",
       "\n",
       "   地域                     メールアドレス                  登録日  \n",
       "0  C市    fukai_nanami@example.com  2017-01-26 00:00:00  \n",
       "1  C市     asada_kenji@example.com  2018-04-07 00:00:00  \n",
       "2  A市    nannbu_keiji@example.com  2018-06-19 00:00:00  \n",
       "3  D市        asou_rio@example.com  2018-07-22 00:00:00  \n",
       "4  D市  hirata_tetsuji@example.com  2017-06-07 00:00:00  "
      ]
     },
     "execution_count": 2,
     "metadata": {},
     "output_type": "execute_result"
    }
   ],
   "source": [
    "file = os.environ[\"dump_data\"]\n",
    "df = pd.read_csv(file, header=0)\n",
    "print('データサイズ：', len(df))\n",
    "print('columns', df.columns)\n",
    "print('index', df.index)\n",
    "print('='*60)\n",
    "df.head()"
   ]
  },
  {
   "cell_type": "code",
   "execution_count": 3,
   "id": "990fb9ec",
   "metadata": {},
   "outputs": [
    {
     "name": "stdout",
     "output_type": "stream",
     "text": [
      "データサイズ： 200\n",
      "columns Index(['顧客名', 'かな', '地域', 'メールアドレス', '登録日'], dtype='object')\n",
      "index RangeIndex(start=0, stop=200, step=1)\n",
      "============================================================\n"
     ]
    },
    {
     "data": {
      "text/html": [
       "<div>\n",
       "<style scoped>\n",
       "    .dataframe tbody tr th:only-of-type {\n",
       "        vertical-align: middle;\n",
       "    }\n",
       "\n",
       "    .dataframe tbody tr th {\n",
       "        vertical-align: top;\n",
       "    }\n",
       "\n",
       "    .dataframe thead th {\n",
       "        text-align: right;\n",
       "    }\n",
       "</style>\n",
       "<table border=\"1\" class=\"dataframe\">\n",
       "  <thead>\n",
       "    <tr style=\"text-align: right;\">\n",
       "      <th></th>\n",
       "      <th>顧客名</th>\n",
       "      <th>かな</th>\n",
       "      <th>地域</th>\n",
       "      <th>メールアドレス</th>\n",
       "      <th>登録日</th>\n",
       "    </tr>\n",
       "  </thead>\n",
       "  <tbody>\n",
       "    <tr>\n",
       "      <th>0</th>\n",
       "      <td>須賀ひとみ</td>\n",
       "      <td>すが ひとみ</td>\n",
       "      <td>H市</td>\n",
       "      <td>suga_hitomi@example.com</td>\n",
       "      <td>2018/01/04</td>\n",
       "    </tr>\n",
       "    <tr>\n",
       "      <th>1</th>\n",
       "      <td>岡田　 敏也</td>\n",
       "      <td>おかだ としや</td>\n",
       "      <td>E市</td>\n",
       "      <td>okada_toshiya@example.com</td>\n",
       "      <td>42782</td>\n",
       "    </tr>\n",
       "    <tr>\n",
       "      <th>2</th>\n",
       "      <td>芳賀 希</td>\n",
       "      <td>はが のぞみ</td>\n",
       "      <td>A市</td>\n",
       "      <td>haga_nozomi@example.com</td>\n",
       "      <td>2018/01/07</td>\n",
       "    </tr>\n",
       "    <tr>\n",
       "      <th>3</th>\n",
       "      <td>荻野  愛</td>\n",
       "      <td>おぎの あい</td>\n",
       "      <td>F市</td>\n",
       "      <td>ogino_ai@example.com</td>\n",
       "      <td>42872</td>\n",
       "    </tr>\n",
       "    <tr>\n",
       "      <th>4</th>\n",
       "      <td>栗田 憲一</td>\n",
       "      <td>くりた けんいち</td>\n",
       "      <td>E市</td>\n",
       "      <td>kurita_kenichi@example.com</td>\n",
       "      <td>43127</td>\n",
       "    </tr>\n",
       "  </tbody>\n",
       "</table>\n",
       "</div>"
      ],
      "text/plain": [
       "      顧客名        かな  地域                     メールアドレス         登録日\n",
       "0   須賀ひとみ    すが ひとみ  H市     suga_hitomi@example.com  2018/01/04\n",
       "1  岡田　 敏也   おかだ としや  E市   okada_toshiya@example.com       42782\n",
       "2    芳賀 希    はが のぞみ  A市     haga_nozomi@example.com  2018/01/07\n",
       "3   荻野  愛    おぎの あい  F市        ogino_ai@example.com       42872\n",
       "4   栗田 憲一  くりた けんいち  E市  kurita_kenichi@example.com       43127"
      ]
     },
     "execution_count": 3,
     "metadata": {},
     "output_type": "execute_result"
    }
   ],
   "source": [
    "file = os.environ[\"kokyaku_daicho\"]\n",
    "df = pd.read_excel(file, header=0)\n",
    "print('データサイズ：', len(df))\n",
    "print('columns', df.columns)\n",
    "print('index', df.index)\n",
    "print('='*60)\n",
    "df.head()\n",
    "df."
   ]
  },
  {
   "cell_type": "code",
   "execution_count": 5,
   "id": "2436c53c",
   "metadata": {},
   "outputs": [
    {
     "name": "stdout",
     "output_type": "stream",
     "text": [
      "データサイズ： 2999\n",
      "columns Index(['purchase_date', 'item_name', 'item_price', 'customer_name'], dtype='object')\n",
      "index RangeIndex(start=0, stop=2999, step=1)\n",
      "============================================================\n",
      "         purchase_date item_name  item_price customer_name\n",
      "0  2019-06-13 18:02:34       商品A       100.0         深井菜々美\n",
      "1  2019-07-13 13:05:29     商 品 S         NaN          浅田賢二\n",
      "2  2019-05-11 19:42:07     商 品 a         NaN          南部慶二\n",
      "3  2019-02-12 23:40:45       商品Z      2600.0          麻生莉緒\n",
      "4  2019-04-22 03:09:35       商品a         NaN          平田鉄二\n"
     ]
    }
   ],
   "source": [
    "file = os.environ[\"uriage\"]\n",
    "df = pd.read_csv(file, header=0)\n",
    "print('データサイズ：', len(df))\n",
    "print('columns', df.columns)\n",
    "print('index', df.index)\n",
    "print('='*60)\n",
    "print(df.head())"
   ]
  },
  {
   "cell_type": "code",
   "execution_count": 6,
   "id": "f5936006",
   "metadata": {},
   "outputs": [
    {
     "name": "stdout",
     "output_type": "stream",
     "text": [
      "データサイズ： 3\n",
      "columns Index(['campaign_id', 'campaign_name'], dtype='object')\n",
      "index RangeIndex(start=0, stop=3, step=1)\n",
      "============================================================\n",
      "  campaign_id campaign_name\n",
      "0         CA1            通常\n",
      "1         CA2         入会費半額\n",
      "2         CA3         入会費無料\n"
     ]
    }
   ],
   "source": [
    "file = os.environ[\"campaign_master\"]\n",
    "df = pd.read_csv(file, header=0)\n",
    "print('データサイズ：', len(df))\n",
    "print('columns', df.columns)\n",
    "print('index', df.index)\n",
    "print('='*60)\n",
    "print(df.head())"
   ]
  },
  {
   "cell_type": "code",
   "execution_count": 7,
   "id": "be0fd438",
   "metadata": {},
   "outputs": [
    {
     "name": "stdout",
     "output_type": "stream",
     "text": [
      "データサイズ： 3\n",
      "columns Index(['class', 'class_name', 'price'], dtype='object')\n",
      "index RangeIndex(start=0, stop=3, step=1)\n",
      "============================================================\n",
      "  class class_name  price\n",
      "0   C01     オールタイム  10500\n",
      "1   C02      デイタイム   7500\n",
      "2   C03        ナイト   6000\n"
     ]
    }
   ],
   "source": [
    "file = os.environ[\"class_master\"]\n",
    "df = pd.read_csv(file, header=0)\n",
    "print('データサイズ：', len(df))\n",
    "print('columns', df.columns)\n",
    "print('index', df.index)\n",
    "print('='*60)\n",
    "print(df.head())"
   ]
  },
  {
   "cell_type": "code",
   "execution_count": 11,
   "id": "a80ee2bb",
   "metadata": {
    "scrolled": true
   },
   "outputs": [
    {
     "name": "stdout",
     "output_type": "stream",
     "text": [
      "データサイズ： 4192\n",
      "columns Index(['customer_id', 'name', 'class', 'gender', 'start_date', 'end_date',\n",
      "       'campaign_id', 'is_deleted'],\n",
      "      dtype='object')\n",
      "index RangeIndex(start=0, stop=4192, step=1)\n",
      "============================================================\n",
      "  customer_id   name class gender           start_date end_date campaign_id  \\\n",
      "0    OA832399   XXXX   C01      F  2015-05-01 00:00:00      NaN         CA1   \n",
      "1    PL270116  XXXXX   C01      M  2015-05-01 00:00:00      NaN         CA1   \n",
      "2    OA974876  XXXXX   C01      M  2015-05-01 00:00:00      NaN         CA1   \n",
      "3    HD024127  XXXXX   C01      F  2015-05-01 00:00:00      NaN         CA1   \n",
      "4    HD661448  XXXXX   C03      F  2015-05-01 00:00:00      NaN         CA1   \n",
      "\n",
      "   is_deleted  \n",
      "0           0  \n",
      "1           0  \n",
      "2           0  \n",
      "3           0  \n",
      "4           0  \n"
     ]
    }
   ],
   "source": [
    "file = os.environ[\"customer_master\"]\n",
    "df = pd.read_csv(file, header=0)\n",
    "print('データサイズ：', len(df))\n",
    "print('columns', df.columns)\n",
    "print('index', df.index)\n",
    "print('='*60)\n",
    "print(df.head())"
   ]
  },
  {
   "cell_type": "code",
   "execution_count": 12,
   "id": "fd2a070a",
   "metadata": {},
   "outputs": [
    {
     "name": "stdout",
     "output_type": "stream",
     "text": [
      "データサイズ： 197428\n",
      "columns Index(['log_id', 'customer_id', 'usedate'], dtype='object')\n",
      "index RangeIndex(start=0, stop=197428, step=1)\n",
      "============================================================\n",
      "            log_id customer_id     usedate\n",
      "0  L00000049012330    AS009373  2018-04-01\n",
      "1  L00000049012331    AS015315  2018-04-01\n",
      "2  L00000049012332    AS040841  2018-04-01\n",
      "3  L00000049012333    AS046594  2018-04-01\n",
      "4  L00000049012334    AS073285  2018-04-01\n"
     ]
    }
   ],
   "source": [
    "file = os.environ[\"use_log03\"]\n",
    "df = pd.read_csv(file, header=0)\n",
    "print('データサイズ：', len(df))\n",
    "print('columns', df.columns)\n",
    "print('index', df.index)\n",
    "print('='*60)\n",
    "print(df.head())"
   ]
  },
  {
   "cell_type": "code",
   "execution_count": 19,
   "id": "e92e0c12",
   "metadata": {},
   "outputs": [
    {
     "name": "stdout",
     "output_type": "stream",
     "text": [
      "データサイズ： 197428\n",
      "columns Index(['log_id', 'customer_id', 'usedate'], dtype='object')\n",
      "index RangeIndex(start=0, stop=197428, step=1)\n",
      "============================================================\n",
      "            log_id customer_id     usedate\n",
      "0  L00000049012330    AS009373  2018-04-01\n",
      "1  L00000049012331    AS015315  2018-04-01\n",
      "2  L00000049012332    AS040841  2018-04-01\n",
      "3  L00000049012333    AS046594  2018-04-01\n",
      "4  L00000049012334    AS073285  2018-04-01\n"
     ]
    }
   ],
   "source": [
    "file = os.environ[\"use_log04\"]\n",
    "df = pd.read_csv(file, header=0)\n",
    "print('データサイズ：', len(df))\n",
    "print('columns', df.columns)\n",
    "print('index', df.index)\n",
    "print('='*60)\n",
    "print(df.head())"
   ]
  },
  {
   "cell_type": "code",
   "execution_count": 24,
   "id": "c6a9504d",
   "metadata": {},
   "outputs": [
    {
     "name": "stdout",
     "output_type": "stream",
     "text": [
      "データサイズ： 86\n",
      "columns Index(['datetime', 'comment', 'satisfaction'], dtype='object')\n",
      "index RangeIndex(start=0, stop=86, step=1)\n",
      "============================================================\n",
      "    datetime            comment  satisfaction\n",
      "0  2019/3/11  駅前に若者が集まっている(AA駅)             1\n",
      "1  2019/2/25   スポーツできる場所があるのが良い             5\n",
      "2  2019/2/18          子育て支援が嬉しい             5\n",
      "3   2019/4/9    保育園に入れる（待機児童なし）             4\n",
      "4   2019/1/6          駅前商店街が寂しい             2\n"
     ]
    }
   ],
   "source": [
    "file = os.environ[\"survey\"]\n",
    "df = pd.read_csv(file, header=0)\n",
    "print('データサイズ：', len(df))\n",
    "print('columns', df.columns)\n",
    "print('index', df.index)\n",
    "print('='*60)\n",
    "print(df.head())"
   ]
  },
  {
   "cell_type": "code",
   "execution_count": 29,
   "id": "d539685b",
   "metadata": {},
   "outputs": [
    {
     "name": "stdout",
     "output_type": "stream",
     "text": [
      "データサイズ： 540\n",
      "columns Index(['Unnamed: 0', '0', '1', '2', '3', '4', '5', '6', '7', '8', '9', '10',\n",
      "       '11', '12', '13', '14', '15', '16', '17', '18', '19', '20', '21', '22',\n",
      "       '23'],\n",
      "      dtype='object')\n",
      "index RangeIndex(start=0, stop=540, step=1)\n",
      "============================================================\n",
      "  Unnamed: 0    0    1    2    3    4    5    6    7    8  ...   14   15   16  \\\n",
      "0      Node0  1.0  1.0  1.0  1.0  1.0  1.0  1.0  0.0  0.0  ...  1.0  1.0  1.0   \n",
      "1      Node1  0.0  0.0  0.0  0.0  0.0  1.0  1.0  1.0  1.0  ...  1.0  1.0  1.0   \n",
      "2      Node2  0.0  0.0  0.0  0.0  0.0  0.0  1.0  1.0  1.0  ...  1.0  1.0  1.0   \n",
      "3      Node3  0.0  0.0  0.0  0.0  0.0  1.0  1.0  1.0  1.0  ...  1.0  1.0  1.0   \n",
      "4      Node4  0.0  0.0  0.0  0.0  0.0  0.0  1.0  1.0  1.0  ...  1.0  1.0  1.0   \n",
      "\n",
      "    17   18   19   20   21   22   23  \n",
      "0  1.0  1.0  1.0  1.0  0.0  0.0  0.0  \n",
      "1  1.0  1.0  1.0  1.0  1.0  1.0  1.0  \n",
      "2  1.0  0.0  1.0  1.0  1.0  1.0  1.0  \n",
      "3  1.0  1.0  0.0  1.0  1.0  1.0  0.0  \n",
      "4  1.0  1.0  1.0  1.0  1.0  1.0  1.0  \n",
      "\n",
      "[5 rows x 25 columns]\n"
     ]
    }
   ],
   "source": [
    "file = os.environ[\"info_members\"]\n",
    "df = pd.read_csv(file, header=0)\n",
    "print('データサイズ：', len(df))\n",
    "print('columns', df.columns)\n",
    "print('index', df.index)\n",
    "print('='*60)\n",
    "print(df.head())"
   ]
  },
  {
   "cell_type": "code",
   "execution_count": 30,
   "id": "47653e77",
   "metadata": {},
   "outputs": [
    {
     "name": "stdout",
     "output_type": "stream",
     "text": [
      "データサイズ： 540\n",
      "columns Index(['Unnamed: 0', 'Node0', 'Node1', 'Node2', 'Node3', 'Node4', 'Node5',\n",
      "       'Node6', 'Node7', 'Node8',\n",
      "       ...\n",
      "       'Node530', 'Node531', 'Node532', 'Node533', 'Node534', 'Node535',\n",
      "       'Node536', 'Node537', 'Node538', 'Node539'],\n",
      "      dtype='object', length=541)\n",
      "index RangeIndex(start=0, stop=540, step=1)\n",
      "============================================================\n",
      "  Unnamed: 0  Node0  Node1  Node2  Node3  Node4  Node5  Node6  Node7  Node8  \\\n",
      "0      Node0    0.0    0.0    1.0    0.0    0.0    0.0    0.0    0.0    0.0   \n",
      "1      Node1    0.0    0.0    0.0    0.0    1.0    1.0    0.0    0.0    0.0   \n",
      "2      Node2    1.0    0.0    0.0    0.0    0.0    1.0    0.0    1.0    0.0   \n",
      "3      Node3    0.0    0.0    0.0    0.0    0.0    0.0    1.0    0.0    0.0   \n",
      "4      Node4    0.0    1.0    0.0    0.0    0.0    1.0    0.0    0.0    0.0   \n",
      "\n",
      "   ...  Node530  Node531  Node532  Node533  Node534  Node535  Node536  \\\n",
      "0  ...      0.0      0.0      0.0      0.0      0.0      0.0      0.0   \n",
      "1  ...      0.0      1.0      1.0      0.0      0.0      0.0      0.0   \n",
      "2  ...      0.0      0.0      1.0      0.0      1.0      0.0      0.0   \n",
      "3  ...      0.0      0.0      0.0      0.0      0.0      0.0      0.0   \n",
      "4  ...      0.0      0.0      0.0      1.0      1.0      0.0      0.0   \n",
      "\n",
      "   Node537  Node538  Node539  \n",
      "0      0.0      0.0      0.0  \n",
      "1      0.0      0.0      0.0  \n",
      "2      1.0      1.0      0.0  \n",
      "3      0.0      0.0      0.0  \n",
      "4      0.0      1.0      0.0  \n",
      "\n",
      "[5 rows x 541 columns]\n"
     ]
    }
   ],
   "source": [
    "file = os.environ[\"links_members\"]\n",
    "df = pd.read_csv(file, header=0)\n",
    "print('データサイズ：', len(df))\n",
    "print('columns', df.columns)\n",
    "print('index', df.index)\n",
    "print('='*60)\n",
    "print(df.head())"
   ]
  },
  {
   "cell_type": "code",
   "execution_count": 31,
   "id": "77616a65",
   "metadata": {},
   "outputs": [
    {
     "name": "stdout",
     "output_type": "stream",
     "text": [
      "データサイズ： 20\n",
      "columns Index(['Unnamed: 0', 'Node0', 'Node1', 'Node2', 'Node3', 'Node4', 'Node5',\n",
      "       'Node6', 'Node7', 'Node8', 'Node9', 'Node10', 'Node11', 'Node12',\n",
      "       'Node13', 'Node14', 'Node15', 'Node16', 'Node17', 'Node18', 'Node19'],\n",
      "      dtype='object')\n",
      "index RangeIndex(start=0, stop=20, step=1)\n",
      "============================================================\n",
      "  Unnamed: 0  Node0  Node1  Node2  Node3  Node4  Node5  Node6  Node7  Node8  \\\n",
      "0      Node0    0.0    0.0    0.0    0.0    0.0    1.0    0.0    0.0    0.0   \n",
      "1      Node1    0.0    0.0    0.0    0.0    0.0    1.0    0.0    0.0    0.0   \n",
      "2      Node2    0.0    0.0    0.0    0.0    1.0    1.0    1.0    0.0    0.0   \n",
      "3      Node3    0.0    0.0    0.0    0.0    0.0    0.0    0.0    1.0    0.0   \n",
      "4      Node4    0.0    0.0    1.0    0.0    0.0    0.0    0.0    1.0    1.0   \n",
      "\n",
      "   ...  Node10  Node11  Node12  Node13  Node14  Node15  Node16  Node17  \\\n",
      "0  ...     0.0     0.0     0.0     0.0     0.0     1.0     0.0     0.0   \n",
      "1  ...     0.0     1.0     0.0     1.0     0.0     0.0     1.0     0.0   \n",
      "2  ...     1.0     0.0     0.0     0.0     0.0     0.0     0.0     0.0   \n",
      "3  ...     0.0     0.0     0.0     0.0     0.0     1.0     0.0     0.0   \n",
      "4  ...     1.0     0.0     0.0     0.0     0.0     1.0     0.0     0.0   \n",
      "\n",
      "   Node18  Node19  \n",
      "0     0.0     0.0  \n",
      "1     0.0     0.0  \n",
      "2     0.0     0.0  \n",
      "3     0.0     0.0  \n",
      "4     0.0     0.0  \n",
      "\n",
      "[5 rows x 21 columns]\n"
     ]
    }
   ],
   "source": [
    "file = os.environ[\"links\"]\n",
    "df = pd.read_csv(file, header=0)\n",
    "print('データサイズ：', len(df))\n",
    "print('columns', df.columns)\n",
    "print('index', df.index)\n",
    "print('='*60)\n",
    "print(df.head())"
   ]
  },
  {
   "cell_type": "code",
   "execution_count": 43,
   "id": "b92989df",
   "metadata": {},
   "outputs": [
    {
     "name": "stdout",
     "output_type": "stream",
     "text": [
      "データサイズ： 5000\n",
      "columns Index(['customer_id', 'customer_name', 'registration_date',\n",
      "       'customer_name_kana', 'email', 'gender', 'age', 'birth', 'pref'],\n",
      "      dtype='object')\n",
      "index RangeIndex(start=0, stop=5000, step=1)\n",
      "============================================================\n",
      "  customer_id customer_name    registration_date customer_name_kana  \\\n",
      "0    IK152942        平田 裕次郎  2019-01-01 00:25:33          ひらた ゆうじろう   \n",
      "1    TS808488         田村 詩織  2019-01-01 01:13:45            たむら しおり   \n",
      "2    AS834628         久野 由樹  2019-01-01 02:00:14             ひさの ゆき   \n",
      "3    AS345469          鶴岡 薫  2019-01-01 04:48:22           つるおか かおる   \n",
      "4    GD892565         大内 高史  2019-01-01 04:54:51           おおうち たかし   \n",
      "\n",
      "                         email gender  age      birth pref  \n",
      "0  hirata_yuujirou@example.com      M   29  1990/6/10  石川県  \n",
      "1    tamura_shiori@example.com      F   33  1986/5/20  東京都  \n",
      "2      hisano_yuki@example.com      F   63   1956/1/2  茨城県  \n",
      "3   tsuruoka_kaoru@example.com      M   74  1945/3/25  東京都  \n",
      "4   oouchi_takashi@example.com      M   54   1965/8/5  千葉県  \n"
     ]
    }
   ],
   "source": [
    "file = os.environ[\"customer_master01\"]\n",
    "df = pd.read_csv(file, header=0)\n",
    "print('データサイズ：', len(df))\n",
    "print('columns', df.columns)\n",
    "print('index', df.index)\n",
    "print('='*60)\n",
    "print(df.head())"
   ]
  },
  {
   "cell_type": "code",
   "execution_count": 37,
   "id": "9835e4d5",
   "metadata": {},
   "outputs": [
    {
     "name": "stdout",
     "output_type": "stream",
     "text": [
      "データサイズ： 5\n",
      "columns Index(['item_id', 'item_name', 'item_price'], dtype='object')\n",
      "index RangeIndex(start=0, stop=5, step=1)\n",
      "============================================================\n",
      "  item_id item_name  item_price\n",
      "0    S001      PC-A       50000\n",
      "1    S002      PC-B       85000\n",
      "2    S003      PC-C      120000\n",
      "3    S004      PC-D      180000\n",
      "4    S005      PC-E      210000\n"
     ]
    }
   ],
   "source": [
    "file = os.environ[\"item_master\"]\n",
    "df = pd.read_csv(file, header=0)\n",
    "print('データサイズ：', len(df))\n",
    "print('columns', df.columns)\n",
    "print('index', df.index)\n",
    "print('='*60)\n",
    "print(df.head())"
   ]
  },
  {
   "cell_type": "code",
   "execution_count": 38,
   "id": "7777bc28",
   "metadata": {},
   "outputs": [
    {
     "name": "stdout",
     "output_type": "stream",
     "text": [
      "データサイズ： 5000\n",
      "columns Index(['transaction_id', 'price', 'payment_date', 'customer_id'], dtype='object')\n",
      "index RangeIndex(start=0, stop=5000, step=1)\n",
      "============================================================\n",
      "  transaction_id   price         payment_date customer_id\n",
      "0    T0000000113  210000  2019-02-01 01:36:57    PL563502\n",
      "1    T0000000114   50000  2019-02-01 01:37:23    HD678019\n",
      "2    T0000000115  120000  2019-02-01 02:34:19    HD298120\n",
      "3    T0000000116  210000  2019-02-01 02:47:23    IK452215\n",
      "4    T0000000117  170000  2019-02-01 04:33:46    PL542865\n"
     ]
    }
   ],
   "source": [
    "file = os.environ[\"transaction_1\"]\n",
    "df = pd.read_csv(file, header=0)\n",
    "print('データサイズ：', len(df))\n",
    "print('columns', df.columns)\n",
    "print('index', df.index)\n",
    "print('='*60)\n",
    "print(df.head())"
   ]
  },
  {
   "cell_type": "code",
   "execution_count": 39,
   "id": "73f53ed4",
   "metadata": {},
   "outputs": [
    {
     "name": "stdout",
     "output_type": "stream",
     "text": [
      "データサイズ： 1786\n",
      "columns Index(['transaction_id', 'price', 'payment_date', 'customer_id'], dtype='object')\n",
      "index RangeIndex(start=0, stop=1786, step=1)\n",
      "============================================================\n",
      "  transaction_id   price         payment_date customer_id\n",
      "0    T0000005113  295000  2019-06-15 07:20:27    TS169261\n",
      "1    T0000005114   50000  2019-06-15 07:35:47    HI599892\n",
      "2    T0000005115   85000  2019-06-15 07:56:36    HI421757\n",
      "3    T0000005116   50000  2019-06-15 08:40:55    OA386378\n",
      "4    T0000005117  120000  2019-06-15 08:44:23    TS506913\n"
     ]
    }
   ],
   "source": [
    "file = os.environ[\"transaction_2\"]\n",
    "df = pd.read_csv(file, header=0)\n",
    "print('データサイズ：', len(df))\n",
    "print('columns', df.columns)\n",
    "print('index', df.index)\n",
    "print('='*60)\n",
    "print(df.head())"
   ]
  },
  {
   "cell_type": "code",
   "execution_count": 40,
   "id": "cc2b57f8",
   "metadata": {},
   "outputs": [
    {
     "name": "stdout",
     "output_type": "stream",
     "text": [
      "データサイズ： 5000\n",
      "columns Index(['detail_id', 'transaction_id', 'item_id', 'quantity'], dtype='object')\n",
      "index RangeIndex(start=0, stop=5000, step=1)\n",
      "============================================================\n",
      "   detail_id transaction_id item_id  quantity\n",
      "0          0    T0000000113    S005         1\n",
      "1          1    T0000000114    S001         1\n",
      "2          2    T0000000115    S003         1\n",
      "3          3    T0000000116    S005         1\n",
      "4          4    T0000000117    S002         2\n"
     ]
    }
   ],
   "source": [
    "file = os.environ[\"transaction_detail_1\"]\n",
    "df = pd.read_csv(file, header=0)\n",
    "print('データサイズ：', len(df))\n",
    "print('columns', df.columns)\n",
    "print('index', df.index)\n",
    "print('='*60)\n",
    "print(df.head())"
   ]
  },
  {
   "cell_type": "code",
   "execution_count": 41,
   "id": "203ad8db",
   "metadata": {},
   "outputs": [
    {
     "name": "stdout",
     "output_type": "stream",
     "text": [
      "データサイズ： 2144\n",
      "columns Index(['detail_id', 'transaction_id', 'item_id', 'quantity'], dtype='object')\n",
      "index RangeIndex(start=0, stop=2144, step=1)\n",
      "============================================================\n",
      "   detail_id transaction_id item_id  quantity\n",
      "0       5000    T0000004870    S002         3\n",
      "1       5001    T0000004871    S003         1\n",
      "2       5002    T0000004872    S001         2\n",
      "3       5003    T0000004873    S004         1\n",
      "4       5004    T0000004874    S003         2\n"
     ]
    }
   ],
   "source": [
    "file = os.environ[\"transaction_detail_2\"]\n",
    "df = pd.read_csv(file, header=0)\n",
    "print('データサイズ：', len(df))\n",
    "print('columns', df.columns)\n",
    "print('index', df.index)\n",
    "print('='*60)\n",
    "print(df.head())"
   ]
  },
  {
   "cell_type": "code",
   "execution_count": null,
   "id": "5002aa84",
   "metadata": {},
   "outputs": [],
   "source": []
  }
 ],
 "metadata": {
  "kernelspec": {
   "display_name": "Python 3 (ipykernel)",
   "language": "python",
   "name": "python3"
  },
  "language_info": {
   "codemirror_mode": {
    "name": "ipython",
    "version": 3
   },
   "file_extension": ".py",
   "mimetype": "text/x-python",
   "name": "python",
   "nbconvert_exporter": "python",
   "pygments_lexer": "ipython3",
   "version": "3.10.6"
  }
 },
 "nbformat": 4,
 "nbformat_minor": 5
}
